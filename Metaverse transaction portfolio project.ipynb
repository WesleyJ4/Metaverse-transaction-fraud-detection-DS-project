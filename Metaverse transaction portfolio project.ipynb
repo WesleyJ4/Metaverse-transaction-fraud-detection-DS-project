{
 "cells": [
  {
   "cell_type": "markdown",
   "id": "985a2417",
   "metadata": {},
   "source": [
    "# Metaverse Transactions"
   ]
  },
  {
   "cell_type": "markdown",
   "id": "4f37833e",
   "metadata": {},
   "source": [
    "# Business objective: Detect fraudulent transactions in the metaverse"
   ]
  },
  {
   "cell_type": "code",
   "execution_count": 1,
   "id": "fa4167e7",
   "metadata": {},
   "outputs": [],
   "source": [
    "import pandas as pd \n",
    "import numpy as np\n",
    "import matplotlib.pyplot as plt\n",
    "import seaborn as sns\n",
    "\n",
    "%matplotlib inline"
   ]
  },
  {
   "cell_type": "markdown",
   "id": "a3be7727",
   "metadata": {},
   "source": [
    "Lets read in the dataset as a dataframe"
   ]
  },
  {
   "cell_type": "code",
   "execution_count": 2,
   "id": "f90ab0e9",
   "metadata": {},
   "outputs": [],
   "source": [
    "df = pd.read_csv(\"metaverse_transactions_dataset.csv\")"
   ]
  },
  {
   "cell_type": "code",
   "execution_count": 3,
   "id": "e3227bc3",
   "metadata": {},
   "outputs": [
    {
     "data": {
      "text/html": [
       "<div>\n",
       "<style scoped>\n",
       "    .dataframe tbody tr th:only-of-type {\n",
       "        vertical-align: middle;\n",
       "    }\n",
       "\n",
       "    .dataframe tbody tr th {\n",
       "        vertical-align: top;\n",
       "    }\n",
       "\n",
       "    .dataframe thead th {\n",
       "        text-align: right;\n",
       "    }\n",
       "</style>\n",
       "<table border=\"1\" class=\"dataframe\">\n",
       "  <thead>\n",
       "    <tr style=\"text-align: right;\">\n",
       "      <th></th>\n",
       "      <th>timestamp</th>\n",
       "      <th>hour_of_day</th>\n",
       "      <th>sending_address</th>\n",
       "      <th>receiving_address</th>\n",
       "      <th>amount</th>\n",
       "      <th>transaction_type</th>\n",
       "      <th>location_region</th>\n",
       "      <th>ip_prefix</th>\n",
       "      <th>login_frequency</th>\n",
       "      <th>session_duration</th>\n",
       "      <th>purchase_pattern</th>\n",
       "      <th>age_group</th>\n",
       "      <th>risk_score</th>\n",
       "      <th>anomaly</th>\n",
       "    </tr>\n",
       "  </thead>\n",
       "  <tbody>\n",
       "    <tr>\n",
       "      <th>0</th>\n",
       "      <td>2022-04-11 12:47:27</td>\n",
       "      <td>12</td>\n",
       "      <td>0x9d32d0bf2c00f41ce7ca01b66e174cc4dcb0c1da</td>\n",
       "      <td>0x39f82e1c09bc6d7baccc1e79e5621ff812f50572</td>\n",
       "      <td>796.949206</td>\n",
       "      <td>transfer</td>\n",
       "      <td>Europe</td>\n",
       "      <td>192.000</td>\n",
       "      <td>3</td>\n",
       "      <td>48</td>\n",
       "      <td>focused</td>\n",
       "      <td>established</td>\n",
       "      <td>18.75</td>\n",
       "      <td>low_risk</td>\n",
       "    </tr>\n",
       "    <tr>\n",
       "      <th>1</th>\n",
       "      <td>2022-06-14 19:12:46</td>\n",
       "      <td>19</td>\n",
       "      <td>0xd6e251c23cbf52dbd472f079147873e655d8096f</td>\n",
       "      <td>0x51e8fbe24f124e0e30a614e14401b9bbfed5384c</td>\n",
       "      <td>0.010000</td>\n",
       "      <td>purchase</td>\n",
       "      <td>South America</td>\n",
       "      <td>172.000</td>\n",
       "      <td>5</td>\n",
       "      <td>61</td>\n",
       "      <td>focused</td>\n",
       "      <td>established</td>\n",
       "      <td>25.00</td>\n",
       "      <td>low_risk</td>\n",
       "    </tr>\n",
       "    <tr>\n",
       "      <th>2</th>\n",
       "      <td>2022-01-18 16:26:59</td>\n",
       "      <td>16</td>\n",
       "      <td>0x2e0925b922fed01f6a85d213ae2718f54b8ca305</td>\n",
       "      <td>0x52c7911879f783d590af45bda0c0ef2b8536706f</td>\n",
       "      <td>778.197390</td>\n",
       "      <td>purchase</td>\n",
       "      <td>Asia</td>\n",
       "      <td>192.168</td>\n",
       "      <td>3</td>\n",
       "      <td>74</td>\n",
       "      <td>focused</td>\n",
       "      <td>established</td>\n",
       "      <td>31.25</td>\n",
       "      <td>low_risk</td>\n",
       "    </tr>\n",
       "    <tr>\n",
       "      <th>3</th>\n",
       "      <td>2022-06-15 09:20:04</td>\n",
       "      <td>9</td>\n",
       "      <td>0x93efefc25fcaf31d7695f28018d7a11ece55457f</td>\n",
       "      <td>0x8ac3b7bd531b3a833032f07d4e47c7af6ea7bace</td>\n",
       "      <td>300.838358</td>\n",
       "      <td>transfer</td>\n",
       "      <td>South America</td>\n",
       "      <td>172.000</td>\n",
       "      <td>8</td>\n",
       "      <td>111</td>\n",
       "      <td>high_value</td>\n",
       "      <td>veteran</td>\n",
       "      <td>36.75</td>\n",
       "      <td>low_risk</td>\n",
       "    </tr>\n",
       "    <tr>\n",
       "      <th>4</th>\n",
       "      <td>2022-02-18 14:35:30</td>\n",
       "      <td>14</td>\n",
       "      <td>0xad3b8de45d63f5cce28aef9a82cf30c397c6ceb9</td>\n",
       "      <td>0x6fdc047c2391615b3facd79b4588c7e9106e49f2</td>\n",
       "      <td>775.569344</td>\n",
       "      <td>sale</td>\n",
       "      <td>Africa</td>\n",
       "      <td>172.160</td>\n",
       "      <td>6</td>\n",
       "      <td>100</td>\n",
       "      <td>high_value</td>\n",
       "      <td>veteran</td>\n",
       "      <td>62.50</td>\n",
       "      <td>moderate_risk</td>\n",
       "    </tr>\n",
       "  </tbody>\n",
       "</table>\n",
       "</div>"
      ],
      "text/plain": [
       "             timestamp  hour_of_day  \\\n",
       "0  2022-04-11 12:47:27           12   \n",
       "1  2022-06-14 19:12:46           19   \n",
       "2  2022-01-18 16:26:59           16   \n",
       "3  2022-06-15 09:20:04            9   \n",
       "4  2022-02-18 14:35:30           14   \n",
       "\n",
       "                              sending_address  \\\n",
       "0  0x9d32d0bf2c00f41ce7ca01b66e174cc4dcb0c1da   \n",
       "1  0xd6e251c23cbf52dbd472f079147873e655d8096f   \n",
       "2  0x2e0925b922fed01f6a85d213ae2718f54b8ca305   \n",
       "3  0x93efefc25fcaf31d7695f28018d7a11ece55457f   \n",
       "4  0xad3b8de45d63f5cce28aef9a82cf30c397c6ceb9   \n",
       "\n",
       "                            receiving_address      amount transaction_type  \\\n",
       "0  0x39f82e1c09bc6d7baccc1e79e5621ff812f50572  796.949206         transfer   \n",
       "1  0x51e8fbe24f124e0e30a614e14401b9bbfed5384c    0.010000         purchase   \n",
       "2  0x52c7911879f783d590af45bda0c0ef2b8536706f  778.197390         purchase   \n",
       "3  0x8ac3b7bd531b3a833032f07d4e47c7af6ea7bace  300.838358         transfer   \n",
       "4  0x6fdc047c2391615b3facd79b4588c7e9106e49f2  775.569344             sale   \n",
       "\n",
       "  location_region  ip_prefix  login_frequency  session_duration  \\\n",
       "0          Europe    192.000                3                48   \n",
       "1   South America    172.000                5                61   \n",
       "2            Asia    192.168                3                74   \n",
       "3   South America    172.000                8               111   \n",
       "4          Africa    172.160                6               100   \n",
       "\n",
       "  purchase_pattern    age_group  risk_score        anomaly  \n",
       "0          focused  established       18.75       low_risk  \n",
       "1          focused  established       25.00       low_risk  \n",
       "2          focused  established       31.25       low_risk  \n",
       "3       high_value      veteran       36.75       low_risk  \n",
       "4       high_value      veteran       62.50  moderate_risk  "
      ]
     },
     "execution_count": 3,
     "metadata": {},
     "output_type": "execute_result"
    }
   ],
   "source": [
    "df.head()"
   ]
  },
  {
   "cell_type": "markdown",
   "id": "a7f20e70",
   "metadata": {},
   "source": [
    "The anomaly column will be the classification label that the machine learning model will predict based on the features."
   ]
  },
  {
   "cell_type": "code",
   "execution_count": 4,
   "id": "89dfd2ec",
   "metadata": {},
   "outputs": [
    {
     "data": {
      "text/plain": [
       "anomaly\n",
       "low_risk         63494\n",
       "moderate_risk     8611\n",
       "high_risk         6495\n",
       "Name: count, dtype: int64"
      ]
     },
     "execution_count": 4,
     "metadata": {},
     "output_type": "execute_result"
    }
   ],
   "source": [
    "df['anomaly'].value_counts()\n"
   ]
  },
  {
   "cell_type": "markdown",
   "id": "fcdadd7d",
   "metadata": {},
   "source": [
    "The value counts of the anomaly column shows us that the dataset is imbalanced because there are far more cases of low risk transactions compared to moderate and high risk transactions."
   ]
  },
  {
   "cell_type": "code",
   "execution_count": 5,
   "id": "42c6fddd",
   "metadata": {},
   "outputs": [
    {
     "data": {
      "text/plain": [
       "(78600, 14)"
      ]
     },
     "execution_count": 5,
     "metadata": {},
     "output_type": "execute_result"
    }
   ],
   "source": [
    "df.shape"
   ]
  },
  {
   "cell_type": "code",
   "execution_count": 6,
   "id": "1a1ad0b7",
   "metadata": {},
   "outputs": [
    {
     "data": {
      "text/html": [
       "<div>\n",
       "<style scoped>\n",
       "    .dataframe tbody tr th:only-of-type {\n",
       "        vertical-align: middle;\n",
       "    }\n",
       "\n",
       "    .dataframe tbody tr th {\n",
       "        vertical-align: top;\n",
       "    }\n",
       "\n",
       "    .dataframe thead th {\n",
       "        text-align: right;\n",
       "    }\n",
       "</style>\n",
       "<table border=\"1\" class=\"dataframe\">\n",
       "  <thead>\n",
       "    <tr style=\"text-align: right;\">\n",
       "      <th></th>\n",
       "      <th>count</th>\n",
       "      <th>mean</th>\n",
       "      <th>std</th>\n",
       "      <th>min</th>\n",
       "      <th>25%</th>\n",
       "      <th>50%</th>\n",
       "      <th>75%</th>\n",
       "      <th>max</th>\n",
       "    </tr>\n",
       "  </thead>\n",
       "  <tbody>\n",
       "    <tr>\n",
       "      <th>hour_of_day</th>\n",
       "      <td>78600.0</td>\n",
       "      <td>11.532634</td>\n",
       "      <td>6.935897</td>\n",
       "      <td>0.00</td>\n",
       "      <td>6.000000</td>\n",
       "      <td>12.0000</td>\n",
       "      <td>18.000000</td>\n",
       "      <td>23.000000</td>\n",
       "    </tr>\n",
       "    <tr>\n",
       "      <th>amount</th>\n",
       "      <td>78600.0</td>\n",
       "      <td>502.574903</td>\n",
       "      <td>245.898146</td>\n",
       "      <td>0.01</td>\n",
       "      <td>331.319966</td>\n",
       "      <td>500.0295</td>\n",
       "      <td>669.528311</td>\n",
       "      <td>1557.150905</td>\n",
       "    </tr>\n",
       "    <tr>\n",
       "      <th>ip_prefix</th>\n",
       "      <td>78600.0</td>\n",
       "      <td>147.644430</td>\n",
       "      <td>69.388143</td>\n",
       "      <td>10.00</td>\n",
       "      <td>172.000000</td>\n",
       "      <td>172.1600</td>\n",
       "      <td>192.000000</td>\n",
       "      <td>192.168000</td>\n",
       "    </tr>\n",
       "    <tr>\n",
       "      <th>login_frequency</th>\n",
       "      <td>78600.0</td>\n",
       "      <td>4.178702</td>\n",
       "      <td>2.366038</td>\n",
       "      <td>1.00</td>\n",
       "      <td>2.000000</td>\n",
       "      <td>4.0000</td>\n",
       "      <td>6.000000</td>\n",
       "      <td>8.000000</td>\n",
       "    </tr>\n",
       "    <tr>\n",
       "      <th>session_duration</th>\n",
       "      <td>78600.0</td>\n",
       "      <td>69.684606</td>\n",
       "      <td>40.524476</td>\n",
       "      <td>20.00</td>\n",
       "      <td>35.000000</td>\n",
       "      <td>60.0000</td>\n",
       "      <td>100.000000</td>\n",
       "      <td>159.000000</td>\n",
       "    </tr>\n",
       "    <tr>\n",
       "      <th>risk_score</th>\n",
       "      <td>78600.0</td>\n",
       "      <td>44.956722</td>\n",
       "      <td>21.775365</td>\n",
       "      <td>15.00</td>\n",
       "      <td>26.250000</td>\n",
       "      <td>40.0000</td>\n",
       "      <td>52.500000</td>\n",
       "      <td>100.000000</td>\n",
       "    </tr>\n",
       "  </tbody>\n",
       "</table>\n",
       "</div>"
      ],
      "text/plain": [
       "                    count        mean         std    min         25%  \\\n",
       "hour_of_day       78600.0   11.532634    6.935897   0.00    6.000000   \n",
       "amount            78600.0  502.574903  245.898146   0.01  331.319966   \n",
       "ip_prefix         78600.0  147.644430   69.388143  10.00  172.000000   \n",
       "login_frequency   78600.0    4.178702    2.366038   1.00    2.000000   \n",
       "session_duration  78600.0   69.684606   40.524476  20.00   35.000000   \n",
       "risk_score        78600.0   44.956722   21.775365  15.00   26.250000   \n",
       "\n",
       "                       50%         75%          max  \n",
       "hour_of_day        12.0000   18.000000    23.000000  \n",
       "amount            500.0295  669.528311  1557.150905  \n",
       "ip_prefix         172.1600  192.000000   192.168000  \n",
       "login_frequency     4.0000    6.000000     8.000000  \n",
       "session_duration   60.0000  100.000000   159.000000  \n",
       "risk_score         40.0000   52.500000   100.000000  "
      ]
     },
     "execution_count": 6,
     "metadata": {},
     "output_type": "execute_result"
    }
   ],
   "source": [
    "df.describe().transpose()"
   ]
  },
  {
   "cell_type": "markdown",
   "id": "b9984723",
   "metadata": {},
   "source": [
    "The describe method gives us a quick overview of the main statistics of the numeric columns. Just looking at the min, max and quartile values, there doesn't seem to be any outliers in these columns. However, we will confirm this later on when we take a closer look."
   ]
  },
  {
   "cell_type": "code",
   "execution_count": 7,
   "id": "455242b6",
   "metadata": {},
   "outputs": [
    {
     "name": "stdout",
     "output_type": "stream",
     "text": [
      "<class 'pandas.core.frame.DataFrame'>\n",
      "RangeIndex: 78600 entries, 0 to 78599\n",
      "Data columns (total 14 columns):\n",
      " #   Column             Non-Null Count  Dtype  \n",
      "---  ------             --------------  -----  \n",
      " 0   timestamp          78600 non-null  object \n",
      " 1   hour_of_day        78600 non-null  int64  \n",
      " 2   sending_address    78600 non-null  object \n",
      " 3   receiving_address  78600 non-null  object \n",
      " 4   amount             78600 non-null  float64\n",
      " 5   transaction_type   78600 non-null  object \n",
      " 6   location_region    78600 non-null  object \n",
      " 7   ip_prefix          78600 non-null  float64\n",
      " 8   login_frequency    78600 non-null  int64  \n",
      " 9   session_duration   78600 non-null  int64  \n",
      " 10  purchase_pattern   78600 non-null  object \n",
      " 11  age_group          78600 non-null  object \n",
      " 12  risk_score         78600 non-null  float64\n",
      " 13  anomaly            78600 non-null  object \n",
      "dtypes: float64(3), int64(3), object(8)\n",
      "memory usage: 8.4+ MB\n"
     ]
    }
   ],
   "source": [
    "df.info()"
   ]
  },
  {
   "cell_type": "markdown",
   "id": "b2592705",
   "metadata": {},
   "source": [
    "The info method shows that there are no null values in this dataset that we have to deal with and we can also confirm this through the isna() and sum() methods.\n",
    "\n",
    "Running through all the columns and their Dtypes confirms that all columns are assigned the correct Dtype, so no need to make any changes there."
   ]
  },
  {
   "cell_type": "code",
   "execution_count": 8,
   "id": "e60bad1a",
   "metadata": {},
   "outputs": [
    {
     "data": {
      "text/plain": [
       "timestamp            0\n",
       "hour_of_day          0\n",
       "sending_address      0\n",
       "receiving_address    0\n",
       "amount               0\n",
       "transaction_type     0\n",
       "location_region      0\n",
       "ip_prefix            0\n",
       "login_frequency      0\n",
       "session_duration     0\n",
       "purchase_pattern     0\n",
       "age_group            0\n",
       "risk_score           0\n",
       "anomaly              0\n",
       "dtype: int64"
      ]
     },
     "execution_count": 8,
     "metadata": {},
     "output_type": "execute_result"
    }
   ],
   "source": [
    "df.isna().sum()"
   ]
  },
  {
   "cell_type": "markdown",
   "id": "d563e923",
   "metadata": {},
   "source": [
    "Summing all the null values for each column confirms there are no null values to deal with in this dataset."
   ]
  },
  {
   "cell_type": "markdown",
   "id": "f9d81293",
   "metadata": {},
   "source": [
    "# EDA On Categorical Columns"
   ]
  },
  {
   "cell_type": "code",
   "execution_count": 9,
   "id": "3d9d6321",
   "metadata": {},
   "outputs": [
    {
     "data": {
      "text/html": [
       "<div>\n",
       "<style scoped>\n",
       "    .dataframe tbody tr th:only-of-type {\n",
       "        vertical-align: middle;\n",
       "    }\n",
       "\n",
       "    .dataframe tbody tr th {\n",
       "        vertical-align: top;\n",
       "    }\n",
       "\n",
       "    .dataframe thead th {\n",
       "        text-align: right;\n",
       "    }\n",
       "</style>\n",
       "<table border=\"1\" class=\"dataframe\">\n",
       "  <thead>\n",
       "    <tr style=\"text-align: right;\">\n",
       "      <th></th>\n",
       "      <th>timestamp</th>\n",
       "      <th>sending_address</th>\n",
       "      <th>receiving_address</th>\n",
       "      <th>transaction_type</th>\n",
       "      <th>location_region</th>\n",
       "      <th>purchase_pattern</th>\n",
       "      <th>age_group</th>\n",
       "      <th>anomaly</th>\n",
       "    </tr>\n",
       "  </thead>\n",
       "  <tbody>\n",
       "    <tr>\n",
       "      <th>0</th>\n",
       "      <td>2022-04-11 12:47:27</td>\n",
       "      <td>0x9d32d0bf2c00f41ce7ca01b66e174cc4dcb0c1da</td>\n",
       "      <td>0x39f82e1c09bc6d7baccc1e79e5621ff812f50572</td>\n",
       "      <td>transfer</td>\n",
       "      <td>Europe</td>\n",
       "      <td>focused</td>\n",
       "      <td>established</td>\n",
       "      <td>low_risk</td>\n",
       "    </tr>\n",
       "    <tr>\n",
       "      <th>1</th>\n",
       "      <td>2022-06-14 19:12:46</td>\n",
       "      <td>0xd6e251c23cbf52dbd472f079147873e655d8096f</td>\n",
       "      <td>0x51e8fbe24f124e0e30a614e14401b9bbfed5384c</td>\n",
       "      <td>purchase</td>\n",
       "      <td>South America</td>\n",
       "      <td>focused</td>\n",
       "      <td>established</td>\n",
       "      <td>low_risk</td>\n",
       "    </tr>\n",
       "    <tr>\n",
       "      <th>2</th>\n",
       "      <td>2022-01-18 16:26:59</td>\n",
       "      <td>0x2e0925b922fed01f6a85d213ae2718f54b8ca305</td>\n",
       "      <td>0x52c7911879f783d590af45bda0c0ef2b8536706f</td>\n",
       "      <td>purchase</td>\n",
       "      <td>Asia</td>\n",
       "      <td>focused</td>\n",
       "      <td>established</td>\n",
       "      <td>low_risk</td>\n",
       "    </tr>\n",
       "    <tr>\n",
       "      <th>3</th>\n",
       "      <td>2022-06-15 09:20:04</td>\n",
       "      <td>0x93efefc25fcaf31d7695f28018d7a11ece55457f</td>\n",
       "      <td>0x8ac3b7bd531b3a833032f07d4e47c7af6ea7bace</td>\n",
       "      <td>transfer</td>\n",
       "      <td>South America</td>\n",
       "      <td>high_value</td>\n",
       "      <td>veteran</td>\n",
       "      <td>low_risk</td>\n",
       "    </tr>\n",
       "    <tr>\n",
       "      <th>4</th>\n",
       "      <td>2022-02-18 14:35:30</td>\n",
       "      <td>0xad3b8de45d63f5cce28aef9a82cf30c397c6ceb9</td>\n",
       "      <td>0x6fdc047c2391615b3facd79b4588c7e9106e49f2</td>\n",
       "      <td>sale</td>\n",
       "      <td>Africa</td>\n",
       "      <td>high_value</td>\n",
       "      <td>veteran</td>\n",
       "      <td>moderate_risk</td>\n",
       "    </tr>\n",
       "    <tr>\n",
       "      <th>...</th>\n",
       "      <td>...</td>\n",
       "      <td>...</td>\n",
       "      <td>...</td>\n",
       "      <td>...</td>\n",
       "      <td>...</td>\n",
       "      <td>...</td>\n",
       "      <td>...</td>\n",
       "      <td>...</td>\n",
       "    </tr>\n",
       "    <tr>\n",
       "      <th>78595</th>\n",
       "      <td>2022-02-13 12:52:27</td>\n",
       "      <td>0xa99b9a7f5c5dd37429771efd3b93c6fbe1ab2936</td>\n",
       "      <td>0x5a78c88c5fc1e9b512f6c64e266b46a9db0a7238</td>\n",
       "      <td>transfer</td>\n",
       "      <td>Africa</td>\n",
       "      <td>random</td>\n",
       "      <td>new</td>\n",
       "      <td>low_risk</td>\n",
       "    </tr>\n",
       "    <tr>\n",
       "      <th>78596</th>\n",
       "      <td>2022-02-16 16:15:29</td>\n",
       "      <td>0xcca095ad2d508c200bda1141f783d77c3e6cbb08</td>\n",
       "      <td>0xb71a4df291ea8e9996a74e77ab63f5abcbfe90f5</td>\n",
       "      <td>purchase</td>\n",
       "      <td>Africa</td>\n",
       "      <td>focused</td>\n",
       "      <td>established</td>\n",
       "      <td>low_risk</td>\n",
       "    </tr>\n",
       "    <tr>\n",
       "      <th>78597</th>\n",
       "      <td>2022-08-04 16:06:42</td>\n",
       "      <td>0xe0b340171486b08f0c1f4ac607ed776478cefd2b</td>\n",
       "      <td>0x577754308538f4be10a41afb4f8900cd24d7098f</td>\n",
       "      <td>purchase</td>\n",
       "      <td>Africa</td>\n",
       "      <td>random</td>\n",
       "      <td>new</td>\n",
       "      <td>low_risk</td>\n",
       "    </tr>\n",
       "    <tr>\n",
       "      <th>78598</th>\n",
       "      <td>2022-02-26 04:06:08</td>\n",
       "      <td>0xb0b2f6fc707fbb7f9d27a9f4fe0cb0d6b39a0155</td>\n",
       "      <td>0xd6ba299fdd52f09f01d9648036ca446498c01ac2</td>\n",
       "      <td>purchase</td>\n",
       "      <td>Asia</td>\n",
       "      <td>focused</td>\n",
       "      <td>established</td>\n",
       "      <td>low_risk</td>\n",
       "    </tr>\n",
       "    <tr>\n",
       "      <th>78599</th>\n",
       "      <td>2022-06-25 14:27:37</td>\n",
       "      <td>0x6ea0e02fb6ee893dc3b70b98df1a48165d28eb09</td>\n",
       "      <td>0xc28cbdb253f12174f7aa80ff6c6660f2e09397d7</td>\n",
       "      <td>transfer</td>\n",
       "      <td>North America</td>\n",
       "      <td>focused</td>\n",
       "      <td>established</td>\n",
       "      <td>low_risk</td>\n",
       "    </tr>\n",
       "  </tbody>\n",
       "</table>\n",
       "<p>78600 rows × 8 columns</p>\n",
       "</div>"
      ],
      "text/plain": [
       "                 timestamp                             sending_address  \\\n",
       "0      2022-04-11 12:47:27  0x9d32d0bf2c00f41ce7ca01b66e174cc4dcb0c1da   \n",
       "1      2022-06-14 19:12:46  0xd6e251c23cbf52dbd472f079147873e655d8096f   \n",
       "2      2022-01-18 16:26:59  0x2e0925b922fed01f6a85d213ae2718f54b8ca305   \n",
       "3      2022-06-15 09:20:04  0x93efefc25fcaf31d7695f28018d7a11ece55457f   \n",
       "4      2022-02-18 14:35:30  0xad3b8de45d63f5cce28aef9a82cf30c397c6ceb9   \n",
       "...                    ...                                         ...   \n",
       "78595  2022-02-13 12:52:27  0xa99b9a7f5c5dd37429771efd3b93c6fbe1ab2936   \n",
       "78596  2022-02-16 16:15:29  0xcca095ad2d508c200bda1141f783d77c3e6cbb08   \n",
       "78597  2022-08-04 16:06:42  0xe0b340171486b08f0c1f4ac607ed776478cefd2b   \n",
       "78598  2022-02-26 04:06:08  0xb0b2f6fc707fbb7f9d27a9f4fe0cb0d6b39a0155   \n",
       "78599  2022-06-25 14:27:37  0x6ea0e02fb6ee893dc3b70b98df1a48165d28eb09   \n",
       "\n",
       "                                receiving_address transaction_type  \\\n",
       "0      0x39f82e1c09bc6d7baccc1e79e5621ff812f50572         transfer   \n",
       "1      0x51e8fbe24f124e0e30a614e14401b9bbfed5384c         purchase   \n",
       "2      0x52c7911879f783d590af45bda0c0ef2b8536706f         purchase   \n",
       "3      0x8ac3b7bd531b3a833032f07d4e47c7af6ea7bace         transfer   \n",
       "4      0x6fdc047c2391615b3facd79b4588c7e9106e49f2             sale   \n",
       "...                                           ...              ...   \n",
       "78595  0x5a78c88c5fc1e9b512f6c64e266b46a9db0a7238         transfer   \n",
       "78596  0xb71a4df291ea8e9996a74e77ab63f5abcbfe90f5         purchase   \n",
       "78597  0x577754308538f4be10a41afb4f8900cd24d7098f         purchase   \n",
       "78598  0xd6ba299fdd52f09f01d9648036ca446498c01ac2         purchase   \n",
       "78599  0xc28cbdb253f12174f7aa80ff6c6660f2e09397d7         transfer   \n",
       "\n",
       "      location_region purchase_pattern    age_group        anomaly  \n",
       "0              Europe          focused  established       low_risk  \n",
       "1       South America          focused  established       low_risk  \n",
       "2                Asia          focused  established       low_risk  \n",
       "3       South America       high_value      veteran       low_risk  \n",
       "4              Africa       high_value      veteran  moderate_risk  \n",
       "...               ...              ...          ...            ...  \n",
       "78595          Africa           random          new       low_risk  \n",
       "78596          Africa          focused  established       low_risk  \n",
       "78597          Africa           random          new       low_risk  \n",
       "78598            Asia          focused  established       low_risk  \n",
       "78599   North America          focused  established       low_risk  \n",
       "\n",
       "[78600 rows x 8 columns]"
      ]
     },
     "execution_count": 9,
     "metadata": {},
     "output_type": "execute_result"
    }
   ],
   "source": [
    "df.select_dtypes(include='object')\n",
    "\n",
    "# This allows us to see all the categorical columns in the dataset."
   ]
  },
  {
   "cell_type": "code",
   "execution_count": 10,
   "id": "fa51b2a7",
   "metadata": {},
   "outputs": [
    {
     "data": {
      "text/plain": [
       "timestamp\n",
       "2022-09-27 02:09:36    2\n",
       "2022-11-28 02:31:24    2\n",
       "2022-02-13 18:13:20    2\n",
       "2022-11-16 20:06:02    2\n",
       "2022-06-09 17:10:49    2\n",
       "                      ..\n",
       "2022-09-28 13:34:13    1\n",
       "2022-03-31 04:53:34    1\n",
       "2022-03-26 15:22:17    1\n",
       "2022-09-01 16:34:33    1\n",
       "2022-06-25 14:27:37    1\n",
       "Name: count, Length: 78513, dtype: int64"
      ]
     },
     "execution_count": 10,
     "metadata": {},
     "output_type": "execute_result"
    }
   ],
   "source": [
    "df['timestamp'].value_counts()\n",
    "\n",
    "# Timestamp has high cardinality due to 78513 uniques values which indicates this column will not be very useful for our ML\n",
    "# model."
   ]
  },
  {
   "cell_type": "code",
   "execution_count": 11,
   "id": "99d5a0db",
   "metadata": {},
   "outputs": [
    {
     "data": {
      "text/plain": [
       "sending_address\n",
       "0x4bfe6fa35149db081520aea5e503946572718756    232\n",
       "0xb0b2f6fc707fbb7f9d27a9f4fe0cb0d6b39a0155    204\n",
       "0x91ee0c3b3f87d070e260f6208c52534d36817dae    203\n",
       "0xccbf5a9926606c77db8391185066a8ee3bc0a2af    203\n",
       "0xf24dd92ee52bb0de1bab87766a4a3f1c17b2c4d9    203\n",
       "                                             ... \n",
       "0xeb57df95b6822a78c2be987e14df39eb23221134     29\n",
       "0xa08d2ae262a2181cfaef98f76adbb10396504fcf     29\n",
       "0xe79cfaf34f8d8c3e20a2a202ee64e2542b74f78f     29\n",
       "0xb52a1c71ffa5252b865e3e7e885f0d74b4984d60     29\n",
       "0x95a91a4a20a4522edc7bd90efe20287e365b3637     29\n",
       "Name: count, Length: 1161, dtype: int64"
      ]
     },
     "execution_count": 11,
     "metadata": {},
     "output_type": "execute_result"
    }
   ],
   "source": [
    "df['sending_address'].value_counts()"
   ]
  },
  {
   "cell_type": "code",
   "execution_count": 12,
   "id": "ca4e77f9",
   "metadata": {},
   "outputs": [
    {
     "data": {
      "text/plain": [
       "receiving_address\n",
       "0x86b61ffe9ce4da504e6b7cf3f0925c1941265074    232\n",
       "0x617b83371b4c65debb6c2e90de89c827ddcb0884    203\n",
       "0x897c07cac7f9149d0be00903c55d810f6e42c9cc    203\n",
       "0xbc9bc0162fe1ef6624c4f9ea0139576e7407a99d    203\n",
       "0x0496b829a3ede37a92aa2b9b101549ed23018cb8    203\n",
       "                                             ... \n",
       "0x51a53117845631a7d7f3be1380c2ad8b1bf0b804     29\n",
       "0xe0985c197011d1a8a9c495c5bd64442d16db5f36     29\n",
       "0x3108e1d0956526998fc5cc8a008ea4fed631162b     29\n",
       "0xf24dd92ee52bb0de1bab87766a4a3f1c17b2c4d9     29\n",
       "0x6581e36d96fae9eec6e9b94802ffab6e3f017462     29\n",
       "Name: count, Length: 1166, dtype: int64"
      ]
     },
     "execution_count": 12,
     "metadata": {},
     "output_type": "execute_result"
    }
   ],
   "source": [
    "df['receiving_address'].value_counts()"
   ]
  },
  {
   "cell_type": "code",
   "execution_count": 13,
   "id": "daf7b90d",
   "metadata": {},
   "outputs": [
    {
     "data": {
      "text/plain": [
       "<Axes: xlabel='transaction_type', ylabel='count'>"
      ]
     },
     "execution_count": 13,
     "metadata": {},
     "output_type": "execute_result"
    },
    {
     "data": {
      "image/png": "[encoded data removed]",
      "text/plain": [
       "<Figure size 640x480 with 1 Axes>"
      ]
     },
     "metadata": {},
     "output_type": "display_data"
    }
   ],
   "source": [
    "sns.countplot(data=df,x='transaction_type',hue='anomaly')\n",
    "\n",
    "# All transfer and purchase transaction types are low_risk. \n",
    "\n",
    "# Sale transaction type is the only one with some cases of moderate risk\n",
    "\n",
    "# All cases of scam and phishing have a high risk which makes sense."
   ]
  },
  {
   "cell_type": "code",
   "execution_count": 14,
   "id": "79731230",
   "metadata": {},
   "outputs": [
    {
     "data": {
      "text/plain": [
       "<Axes: xlabel='location_region', ylabel='count'>"
      ]
     },
     "execution_count": 14,
     "metadata": {},
     "output_type": "execute_result"
    },
    {
     "data": {
      "image/png": "[encoded data removed]",
      "text/plain": [
       "<Figure size 640x480 with 1 Axes>"
      ]
     },
     "metadata": {},
     "output_type": "display_data"
    }
   ],
   "source": [
    "sns.countplot(data=df,x='location_region',hue='anomaly')"
   ]
  },
  {
   "cell_type": "markdown",
   "id": "dcf9d7cd",
   "metadata": {},
   "source": [
    "This shows that the number of anomaly types are almost equal across the continents and there isn't a specific region that is more prone to low, moderate or higher risk transactions."
   ]
  },
  {
   "cell_type": "code",
   "execution_count": 15,
   "id": "c7b44a47",
   "metadata": {},
   "outputs": [
    {
     "data": {
      "text/plain": [
       "<Axes: xlabel='purchase_pattern', ylabel='count'>"
      ]
     },
     "execution_count": 15,
     "metadata": {},
     "output_type": "execute_result"
    },
    {
     "data": {
      "image/png": "[encoded data removed]",
      "text/plain": [
       "<Figure size 640x480 with 1 Axes>"
      ]
     },
     "metadata": {},
     "output_type": "display_data"
    }
   ],
   "source": [
    "sns.countplot(data=df,x='purchase_pattern',hue='anomaly')"
   ]
  },
  {
   "cell_type": "markdown",
   "id": "a639a1e6",
   "metadata": {},
   "source": [
    "Random purchase pattern suggests that users that are making purchases that are not well thought out or maybe from untrusted sellers, due to a lack of experience, and as a result, tend to be more risky."
   ]
  },
  {
   "cell_type": "code",
   "execution_count": 16,
   "id": "e1ed1089",
   "metadata": {},
   "outputs": [
    {
     "data": {
      "text/plain": [
       "<Axes: xlabel='age_group', ylabel='count'>"
      ]
     },
     "execution_count": 16,
     "metadata": {},
     "output_type": "execute_result"
    },
    {
     "data": {
      "image/png": "[encoded data removed]",
      "text/plain": [
       "<Figure size 640x480 with 1 Axes>"
      ]
     },
     "metadata": {},
     "output_type": "display_data"
    }
   ],
   "source": [
    "sns.countplot(data=df,x='age_group',hue='anomaly')"
   ]
  },
  {
   "cell_type": "markdown",
   "id": "3d8889ab",
   "metadata": {},
   "source": [
    "Veterans are exposed to moderate risk. This maybe due to the fact that they deal with higher value transactions compared to the other age_groups and therefore are targetted by scammers. However, due to their experience, they are able to avoid a lot of attempts of scamming and phishing."
   ]
  },
  {
   "cell_type": "code",
   "execution_count": 17,
   "id": "529cd795",
   "metadata": {},
   "outputs": [
    {
     "data": {
      "text/plain": [
       "<Axes: xlabel='age_group', ylabel='count'>"
      ]
     },
     "execution_count": 17,
     "metadata": {},
     "output_type": "execute_result"
    },
    {
     "data": {
      "image/png": "[encoded data removed]",
      "text/plain": [
       "<Figure size 640x480 with 1 Axes>"
      ]
     },
     "metadata": {},
     "output_type": "display_data"
    }
   ],
   "source": [
    "sns.countplot(data=df,x='age_group',hue='purchase_pattern')"
   ]
  },
  {
   "cell_type": "markdown",
   "id": "702b2ba3",
   "metadata": {},
   "source": [
    "As we can see above, both of the theories stated previously regarding the purchase_pattern and age_group seem to be correct.\n",
    "\n",
    "Veterans have a high_value purchase pattern and new users have a random purchase pattern.\n",
    "\n",
    "This leaves established users who have have a focused purchase pattern exposed to the lowest risk."
   ]
  },
  {
   "cell_type": "code",
   "execution_count": 18,
   "id": "d709e9d3",
   "metadata": {},
   "outputs": [
    {
     "data": {
      "text/plain": [
       "<Axes: xlabel='transaction_type', ylabel='count'>"
      ]
     },
     "execution_count": 18,
     "metadata": {},
     "output_type": "execute_result"
    },
    {
     "data": {
      "image/png": "[encoded data removed]",
      "text/plain": [
       "<Figure size 640x480 with 1 Axes>"
      ]
     },
     "metadata": {},
     "output_type": "display_data"
    }
   ],
   "source": [
    "sns.countplot(data=df,x='transaction_type',hue='purchase_pattern')"
   ]
  },
  {
   "cell_type": "markdown",
   "id": "f19ecc01",
   "metadata": {},
   "source": [
    "# EDA On Numerical Columns"
   ]
  },
  {
   "cell_type": "code",
   "execution_count": 19,
   "id": "fa356f4e",
   "metadata": {},
   "outputs": [
    {
     "data": {
      "text/html": [
       "<div>\n",
       "<style scoped>\n",
       "    .dataframe tbody tr th:only-of-type {\n",
       "        vertical-align: middle;\n",
       "    }\n",
       "\n",
       "    .dataframe tbody tr th {\n",
       "        vertical-align: top;\n",
       "    }\n",
       "\n",
       "    .dataframe thead th {\n",
       "        text-align: right;\n",
       "    }\n",
       "</style>\n",
       "<table border=\"1\" class=\"dataframe\">\n",
       "  <thead>\n",
       "    <tr style=\"text-align: right;\">\n",
       "      <th></th>\n",
       "      <th>hour_of_day</th>\n",
       "      <th>amount</th>\n",
       "      <th>ip_prefix</th>\n",
       "      <th>login_frequency</th>\n",
       "      <th>session_duration</th>\n",
       "      <th>risk_score</th>\n",
       "    </tr>\n",
       "  </thead>\n",
       "  <tbody>\n",
       "    <tr>\n",
       "      <th>0</th>\n",
       "      <td>12</td>\n",
       "      <td>796.949206</td>\n",
       "      <td>192.000</td>\n",
       "      <td>3</td>\n",
       "      <td>48</td>\n",
       "      <td>18.7500</td>\n",
       "    </tr>\n",
       "    <tr>\n",
       "      <th>1</th>\n",
       "      <td>19</td>\n",
       "      <td>0.010000</td>\n",
       "      <td>172.000</td>\n",
       "      <td>5</td>\n",
       "      <td>61</td>\n",
       "      <td>25.0000</td>\n",
       "    </tr>\n",
       "    <tr>\n",
       "      <th>2</th>\n",
       "      <td>16</td>\n",
       "      <td>778.197390</td>\n",
       "      <td>192.168</td>\n",
       "      <td>3</td>\n",
       "      <td>74</td>\n",
       "      <td>31.2500</td>\n",
       "    </tr>\n",
       "    <tr>\n",
       "      <th>3</th>\n",
       "      <td>9</td>\n",
       "      <td>300.838358</td>\n",
       "      <td>172.000</td>\n",
       "      <td>8</td>\n",
       "      <td>111</td>\n",
       "      <td>36.7500</td>\n",
       "    </tr>\n",
       "    <tr>\n",
       "      <th>4</th>\n",
       "      <td>14</td>\n",
       "      <td>775.569344</td>\n",
       "      <td>172.160</td>\n",
       "      <td>6</td>\n",
       "      <td>100</td>\n",
       "      <td>62.5000</td>\n",
       "    </tr>\n",
       "    <tr>\n",
       "      <th>...</th>\n",
       "      <td>...</td>\n",
       "      <td>...</td>\n",
       "      <td>...</td>\n",
       "      <td>...</td>\n",
       "      <td>...</td>\n",
       "      <td>...</td>\n",
       "    </tr>\n",
       "    <tr>\n",
       "      <th>78595</th>\n",
       "      <td>12</td>\n",
       "      <td>660.280373</td>\n",
       "      <td>172.000</td>\n",
       "      <td>1</td>\n",
       "      <td>27</td>\n",
       "      <td>26.2500</td>\n",
       "    </tr>\n",
       "    <tr>\n",
       "      <th>78596</th>\n",
       "      <td>16</td>\n",
       "      <td>310.273397</td>\n",
       "      <td>172.000</td>\n",
       "      <td>5</td>\n",
       "      <td>60</td>\n",
       "      <td>26.2500</td>\n",
       "    </tr>\n",
       "    <tr>\n",
       "      <th>78597</th>\n",
       "      <td>16</td>\n",
       "      <td>624.674332</td>\n",
       "      <td>192.000</td>\n",
       "      <td>1</td>\n",
       "      <td>34</td>\n",
       "      <td>36.7500</td>\n",
       "    </tr>\n",
       "    <tr>\n",
       "      <th>78598</th>\n",
       "      <td>4</td>\n",
       "      <td>401.391592</td>\n",
       "      <td>192.168</td>\n",
       "      <td>4</td>\n",
       "      <td>56</td>\n",
       "      <td>35.4375</td>\n",
       "    </tr>\n",
       "    <tr>\n",
       "      <th>78599</th>\n",
       "      <td>14</td>\n",
       "      <td>523.947956</td>\n",
       "      <td>172.000</td>\n",
       "      <td>4</td>\n",
       "      <td>56</td>\n",
       "      <td>15.7500</td>\n",
       "    </tr>\n",
       "  </tbody>\n",
       "</table>\n",
       "<p>78600 rows × 6 columns</p>\n",
       "</div>"
      ],
      "text/plain": [
       "       hour_of_day      amount  ip_prefix  login_frequency  session_duration  \\\n",
       "0               12  796.949206    192.000                3                48   \n",
       "1               19    0.010000    172.000                5                61   \n",
       "2               16  778.197390    192.168                3                74   \n",
       "3                9  300.838358    172.000                8               111   \n",
       "4               14  775.569344    172.160                6               100   \n",
       "...            ...         ...        ...              ...               ...   \n",
       "78595           12  660.280373    172.000                1                27   \n",
       "78596           16  310.273397    172.000                5                60   \n",
       "78597           16  624.674332    192.000                1                34   \n",
       "78598            4  401.391592    192.168                4                56   \n",
       "78599           14  523.947956    172.000                4                56   \n",
       "\n",
       "       risk_score  \n",
       "0         18.7500  \n",
       "1         25.0000  \n",
       "2         31.2500  \n",
       "3         36.7500  \n",
       "4         62.5000  \n",
       "...           ...  \n",
       "78595     26.2500  \n",
       "78596     26.2500  \n",
       "78597     36.7500  \n",
       "78598     35.4375  \n",
       "78599     15.7500  \n",
       "\n",
       "[78600 rows x 6 columns]"
      ]
     },
     "execution_count": 19,
     "metadata": {},
     "output_type": "execute_result"
    }
   ],
   "source": [
    "df.select_dtypes(exclude='object')"
   ]
  },
  {
   "cell_type": "markdown",
   "id": "f7d0f067",
   "metadata": {},
   "source": [
    "I am going to create a new column that maps a numerical value for each classification in the anomaly column. This will enable me to see the correlation between the numerical columns and the label."
   ]
  },
  {
   "cell_type": "code",
   "execution_count": 20,
   "id": "51e5b556",
   "metadata": {},
   "outputs": [],
   "source": [
    "df['target'] = df['anomaly'].map({'low_risk':0,'moderate_risk':1,'high_risk':2})"
   ]
  },
  {
   "cell_type": "code",
   "execution_count": 21,
   "id": "bffd8f53",
   "metadata": {},
   "outputs": [
    {
     "data": {
      "text/plain": [
       "target\n",
       "0    63494\n",
       "1     8611\n",
       "2     6495\n",
       "Name: count, dtype: int64"
      ]
     },
     "execution_count": 21,
     "metadata": {},
     "output_type": "execute_result"
    }
   ],
   "source": [
    "df['target'].value_counts()"
   ]
  },
  {
   "cell_type": "code",
   "execution_count": 22,
   "id": "701d73d9",
   "metadata": {},
   "outputs": [
    {
     "data": {
      "text/html": [
       "<div>\n",
       "<style scoped>\n",
       "    .dataframe tbody tr th:only-of-type {\n",
       "        vertical-align: middle;\n",
       "    }\n",
       "\n",
       "    .dataframe tbody tr th {\n",
       "        vertical-align: top;\n",
       "    }\n",
       "\n",
       "    .dataframe thead th {\n",
       "        text-align: right;\n",
       "    }\n",
       "</style>\n",
       "<table border=\"1\" class=\"dataframe\">\n",
       "  <thead>\n",
       "    <tr style=\"text-align: right;\">\n",
       "      <th></th>\n",
       "      <th>hour_of_day</th>\n",
       "      <th>amount</th>\n",
       "      <th>ip_prefix</th>\n",
       "      <th>login_frequency</th>\n",
       "      <th>session_duration</th>\n",
       "      <th>risk_score</th>\n",
       "      <th>target</th>\n",
       "    </tr>\n",
       "  </thead>\n",
       "  <tbody>\n",
       "    <tr>\n",
       "      <th>hour_of_day</th>\n",
       "      <td>1.000000</td>\n",
       "      <td>0.000484</td>\n",
       "      <td>-0.003166</td>\n",
       "      <td>0.004483</td>\n",
       "      <td>0.006132</td>\n",
       "      <td>-0.190985</td>\n",
       "      <td>-0.113970</td>\n",
       "    </tr>\n",
       "    <tr>\n",
       "      <th>amount</th>\n",
       "      <td>0.000484</td>\n",
       "      <td>1.000000</td>\n",
       "      <td>-0.001376</td>\n",
       "      <td>-0.000718</td>\n",
       "      <td>0.000355</td>\n",
       "      <td>0.114075</td>\n",
       "      <td>0.084998</td>\n",
       "    </tr>\n",
       "    <tr>\n",
       "      <th>ip_prefix</th>\n",
       "      <td>-0.003166</td>\n",
       "      <td>-0.001376</td>\n",
       "      <td>1.000000</td>\n",
       "      <td>-0.000553</td>\n",
       "      <td>0.000959</td>\n",
       "      <td>0.004278</td>\n",
       "      <td>0.006499</td>\n",
       "    </tr>\n",
       "    <tr>\n",
       "      <th>login_frequency</th>\n",
       "      <td>0.004483</td>\n",
       "      <td>-0.000718</td>\n",
       "      <td>-0.000553</td>\n",
       "      <td>1.000000</td>\n",
       "      <td>0.871915</td>\n",
       "      <td>0.033010</td>\n",
       "      <td>-0.112010</td>\n",
       "    </tr>\n",
       "    <tr>\n",
       "      <th>session_duration</th>\n",
       "      <td>0.006132</td>\n",
       "      <td>0.000355</td>\n",
       "      <td>0.000959</td>\n",
       "      <td>0.871915</td>\n",
       "      <td>1.000000</td>\n",
       "      <td>0.107844</td>\n",
       "      <td>-0.066161</td>\n",
       "    </tr>\n",
       "    <tr>\n",
       "      <th>risk_score</th>\n",
       "      <td>-0.190985</td>\n",
       "      <td>0.114075</td>\n",
       "      <td>0.004278</td>\n",
       "      <td>0.033010</td>\n",
       "      <td>0.107844</td>\n",
       "      <td>1.000000</td>\n",
       "      <td>0.864830</td>\n",
       "    </tr>\n",
       "    <tr>\n",
       "      <th>target</th>\n",
       "      <td>-0.113970</td>\n",
       "      <td>0.084998</td>\n",
       "      <td>0.006499</td>\n",
       "      <td>-0.112010</td>\n",
       "      <td>-0.066161</td>\n",
       "      <td>0.864830</td>\n",
       "      <td>1.000000</td>\n",
       "    </tr>\n",
       "  </tbody>\n",
       "</table>\n",
       "</div>"
      ],
      "text/plain": [
       "                  hour_of_day    amount  ip_prefix  login_frequency  \\\n",
       "hour_of_day          1.000000  0.000484  -0.003166         0.004483   \n",
       "amount               0.000484  1.000000  -0.001376        -0.000718   \n",
       "ip_prefix           -0.003166 -0.001376   1.000000        -0.000553   \n",
       "login_frequency      0.004483 -0.000718  -0.000553         1.000000   \n",
       "session_duration     0.006132  0.000355   0.000959         0.871915   \n",
       "risk_score          -0.190985  0.114075   0.004278         0.033010   \n",
       "target              -0.113970  0.084998   0.006499        -0.112010   \n",
       "\n",
       "                  session_duration  risk_score    target  \n",
       "hour_of_day               0.006132   -0.190985 -0.113970  \n",
       "amount                    0.000355    0.114075  0.084998  \n",
       "ip_prefix                 0.000959    0.004278  0.006499  \n",
       "login_frequency           0.871915    0.033010 -0.112010  \n",
       "session_duration          1.000000    0.107844 -0.066161  \n",
       "risk_score                0.107844    1.000000  0.864830  \n",
       "target                   -0.066161    0.864830  1.000000  "
      ]
     },
     "execution_count": 22,
     "metadata": {},
     "output_type": "execute_result"
    }
   ],
   "source": [
    "df.corr(numeric_only=True)"
   ]
  },
  {
   "cell_type": "code",
   "execution_count": 23,
   "id": "e2db85d1",
   "metadata": {},
   "outputs": [
    {
     "data": {
      "text/plain": [
       "hour_of_day        -0.113970\n",
       "login_frequency    -0.112010\n",
       "session_duration   -0.066161\n",
       "ip_prefix           0.006499\n",
       "amount              0.084998\n",
       "risk_score          0.864830\n",
       "target              1.000000\n",
       "Name: target, dtype: float64"
      ]
     },
     "execution_count": 23,
     "metadata": {},
     "output_type": "execute_result"
    }
   ],
   "source": [
    "df.corr(numeric_only=True)['target'].sort_values()\n",
    "\n",
    "# risk_score has the highest correlation with the target variable so we will create a visualisation to analyse this further."
   ]
  },
  {
   "cell_type": "code",
   "execution_count": 24,
   "id": "b9d504da",
   "metadata": {},
   "outputs": [
    {
     "data": {
      "text/plain": [
       "<Axes: >"
      ]
     },
     "execution_count": 24,
     "metadata": {},
     "output_type": "execute_result"
    },
    {
     "data": {
      "image/png": "[encoded data removed]",
      "text/plain": [
       "<Figure size 1000x600 with 2 Axes>"
      ]
     },
     "metadata": {},
     "output_type": "display_data"
    }
   ],
   "source": [
    "plt.figure(figsize=(10,6),dpi=100)\n",
    "sns.heatmap(data=df.corr(numeric_only=True),annot=True)"
   ]
  },
  {
   "cell_type": "code",
   "execution_count": 25,
   "id": "4bc85b3d",
   "metadata": {},
   "outputs": [
    {
     "data": {
      "image/png": "[encoded data removed]",
      "text/plain": [
       "<Figure size 1000x600 with 1 Axes>"
      ]
     },
     "metadata": {},
     "output_type": "display_data"
    }
   ],
   "source": [
    "plt.figure(figsize=(10,6))\n",
    "sns.barplot(data=df,x='risk_score',y='target')\n",
    "plt.xticks(rotation=90);"
   ]
  },
  {
   "cell_type": "code",
   "execution_count": 26,
   "id": "80b0ae72",
   "metadata": {},
   "outputs": [
    {
     "data": {
      "text/plain": [
       "<Axes: xlabel='risk_score', ylabel='target'>"
      ]
     },
     "execution_count": 26,
     "metadata": {},
     "output_type": "execute_result"
    },
    {
     "data": {
      "image/png": "[encoded data removed]",
      "text/plain": [
       "<Figure size 640x480 with 1 Axes>"
      ]
     },
     "metadata": {},
     "output_type": "display_data"
    }
   ],
   "source": [
    "sns.scatterplot(data=df,x='risk_score',y='target',alpha=0.5)"
   ]
  },
  {
   "cell_type": "markdown",
   "id": "436b150b",
   "metadata": {},
   "source": [
    "risk_score has a very high correlation with the label and we can also see from the visualisation above that risk_score and anomaly both essentially show the same information.\n",
    "\n",
    "To avoid target leakage, I will remove the risk_score feature from the dataset for modelling. "
   ]
  },
  {
   "cell_type": "code",
   "execution_count": 27,
   "id": "79483690",
   "metadata": {},
   "outputs": [
    {
     "data": {
      "text/html": [
       "<div>\n",
       "<style scoped>\n",
       "    .dataframe tbody tr th:only-of-type {\n",
       "        vertical-align: middle;\n",
       "    }\n",
       "\n",
       "    .dataframe tbody tr th {\n",
       "        vertical-align: top;\n",
       "    }\n",
       "\n",
       "    .dataframe thead th {\n",
       "        text-align: right;\n",
       "    }\n",
       "</style>\n",
       "<table border=\"1\" class=\"dataframe\">\n",
       "  <thead>\n",
       "    <tr style=\"text-align: right;\">\n",
       "      <th></th>\n",
       "      <th>anomaly</th>\n",
       "      <th>hour_of_day</th>\n",
       "    </tr>\n",
       "  </thead>\n",
       "  <tbody>\n",
       "    <tr>\n",
       "      <th>0</th>\n",
       "      <td>high_risk</td>\n",
       "      <td>11.641109</td>\n",
       "    </tr>\n",
       "    <tr>\n",
       "      <th>1</th>\n",
       "      <td>low_risk</td>\n",
       "      <td>12.134564</td>\n",
       "    </tr>\n",
       "    <tr>\n",
       "      <th>2</th>\n",
       "      <td>moderate_risk</td>\n",
       "      <td>7.012426</td>\n",
       "    </tr>\n",
       "  </tbody>\n",
       "</table>\n",
       "</div>"
      ],
      "text/plain": [
       "         anomaly  hour_of_day\n",
       "0      high_risk    11.641109\n",
       "1       low_risk    12.134564\n",
       "2  moderate_risk     7.012426"
      ]
     },
     "execution_count": 27,
     "metadata": {},
     "output_type": "execute_result"
    }
   ],
   "source": [
    "df[['anomaly','hour_of_day']].groupby(['anomaly'],as_index=False).mean()"
   ]
  },
  {
   "cell_type": "code",
   "execution_count": 28,
   "id": "bf510b14",
   "metadata": {},
   "outputs": [
    {
     "data": {
      "text/html": [
       "<div>\n",
       "<style scoped>\n",
       "    .dataframe tbody tr th:only-of-type {\n",
       "        vertical-align: middle;\n",
       "    }\n",
       "\n",
       "    .dataframe tbody tr th {\n",
       "        vertical-align: top;\n",
       "    }\n",
       "\n",
       "    .dataframe thead th {\n",
       "        text-align: right;\n",
       "    }\n",
       "</style>\n",
       "<table border=\"1\" class=\"dataframe\">\n",
       "  <thead>\n",
       "    <tr style=\"text-align: right;\">\n",
       "      <th></th>\n",
       "      <th>anomaly</th>\n",
       "      <th>login_frequency</th>\n",
       "    </tr>\n",
       "  </thead>\n",
       "  <tbody>\n",
       "    <tr>\n",
       "      <th>0</th>\n",
       "      <td>high_risk</td>\n",
       "      <td>1.500693</td>\n",
       "    </tr>\n",
       "    <tr>\n",
       "      <th>1</th>\n",
       "      <td>low_risk</td>\n",
       "      <td>4.102844</td>\n",
       "    </tr>\n",
       "    <tr>\n",
       "      <th>2</th>\n",
       "      <td>moderate_risk</td>\n",
       "      <td>6.757984</td>\n",
       "    </tr>\n",
       "  </tbody>\n",
       "</table>\n",
       "</div>"
      ],
      "text/plain": [
       "         anomaly  login_frequency\n",
       "0      high_risk         1.500693\n",
       "1       low_risk         4.102844\n",
       "2  moderate_risk         6.757984"
      ]
     },
     "execution_count": 28,
     "metadata": {},
     "output_type": "execute_result"
    }
   ],
   "source": [
    "df[['anomaly','login_frequency']].groupby(['anomaly'],as_index=False).mean()"
   ]
  },
  {
   "cell_type": "code",
   "execution_count": 29,
   "id": "d124751d",
   "metadata": {},
   "outputs": [
    {
     "data": {
      "text/plain": [
       "<Axes: xlabel='login_frequency', ylabel='age_group'>"
      ]
     },
     "execution_count": 29,
     "metadata": {},
     "output_type": "execute_result"
    },
    {
     "data": {
      "image/png": "[encoded data removed]",
      "text/plain": [
       "<Figure size 640x480 with 1 Axes>"
      ]
     },
     "metadata": {},
     "output_type": "display_data"
    }
   ],
   "source": [
    "sns.scatterplot(data=df,x='login_frequency',y='age_group',alpha=0.2)"
   ]
  },
  {
   "cell_type": "code",
   "execution_count": 30,
   "id": "78e3c3b6",
   "metadata": {},
   "outputs": [
    {
     "data": {
      "text/plain": [
       "session_duration\n",
       "23     1377\n",
       "39     1360\n",
       "28     1359\n",
       "21     1331\n",
       "36     1321\n",
       "       ... \n",
       "102     304\n",
       "155     302\n",
       "125     298\n",
       "124     289\n",
       "129     280\n",
       "Name: count, Length: 140, dtype: int64"
      ]
     },
     "execution_count": 30,
     "metadata": {},
     "output_type": "execute_result"
    }
   ],
   "source": [
    "df['session_duration'].value_counts()"
   ]
  },
  {
   "cell_type": "code",
   "execution_count": 31,
   "id": "9df9b545",
   "metadata": {},
   "outputs": [
    {
     "data": {
      "text/html": [
       "<div>\n",
       "<style scoped>\n",
       "    .dataframe tbody tr th:only-of-type {\n",
       "        vertical-align: middle;\n",
       "    }\n",
       "\n",
       "    .dataframe tbody tr th {\n",
       "        vertical-align: top;\n",
       "    }\n",
       "\n",
       "    .dataframe thead th {\n",
       "        text-align: right;\n",
       "    }\n",
       "</style>\n",
       "<table border=\"1\" class=\"dataframe\">\n",
       "  <thead>\n",
       "    <tr style=\"text-align: right;\">\n",
       "      <th></th>\n",
       "      <th>anomaly</th>\n",
       "      <th>session_duration</th>\n",
       "    </tr>\n",
       "  </thead>\n",
       "  <tbody>\n",
       "    <tr>\n",
       "      <th>0</th>\n",
       "      <td>high_risk</td>\n",
       "      <td>29.462510</td>\n",
       "    </tr>\n",
       "    <tr>\n",
       "      <th>1</th>\n",
       "      <td>low_risk</td>\n",
       "      <td>67.574133</td>\n",
       "    </tr>\n",
       "    <tr>\n",
       "      <th>2</th>\n",
       "      <td>moderate_risk</td>\n",
       "      <td>115.584601</td>\n",
       "    </tr>\n",
       "  </tbody>\n",
       "</table>\n",
       "</div>"
      ],
      "text/plain": [
       "         anomaly  session_duration\n",
       "0      high_risk         29.462510\n",
       "1       low_risk         67.574133\n",
       "2  moderate_risk        115.584601"
      ]
     },
     "execution_count": 31,
     "metadata": {},
     "output_type": "execute_result"
    }
   ],
   "source": [
    "df[['anomaly','session_duration']].groupby(['anomaly'],as_index=False).mean()"
   ]
  },
  {
   "cell_type": "code",
   "execution_count": 32,
   "id": "e35a8b8c",
   "metadata": {},
   "outputs": [
    {
     "data": {
      "text/html": [
       "<div>\n",
       "<style scoped>\n",
       "    .dataframe tbody tr th:only-of-type {\n",
       "        vertical-align: middle;\n",
       "    }\n",
       "\n",
       "    .dataframe tbody tr th {\n",
       "        vertical-align: top;\n",
       "    }\n",
       "\n",
       "    .dataframe thead th {\n",
       "        text-align: right;\n",
       "    }\n",
       "</style>\n",
       "<table border=\"1\" class=\"dataframe\">\n",
       "  <thead>\n",
       "    <tr style=\"text-align: right;\">\n",
       "      <th></th>\n",
       "      <th>anomaly</th>\n",
       "      <th>amount</th>\n",
       "    </tr>\n",
       "  </thead>\n",
       "  <tbody>\n",
       "    <tr>\n",
       "      <th>0</th>\n",
       "      <td>high_risk</td>\n",
       "      <td>495.352890</td>\n",
       "    </tr>\n",
       "    <tr>\n",
       "      <th>1</th>\n",
       "      <td>low_risk</td>\n",
       "      <td>486.214159</td>\n",
       "    </tr>\n",
       "    <tr>\n",
       "      <th>2</th>\n",
       "      <td>moderate_risk</td>\n",
       "      <td>628.659679</td>\n",
       "    </tr>\n",
       "  </tbody>\n",
       "</table>\n",
       "</div>"
      ],
      "text/plain": [
       "         anomaly      amount\n",
       "0      high_risk  495.352890\n",
       "1       low_risk  486.214159\n",
       "2  moderate_risk  628.659679"
      ]
     },
     "execution_count": 32,
     "metadata": {},
     "output_type": "execute_result"
    }
   ],
   "source": [
    "df[['anomaly','amount']].groupby(['anomaly'],as_index=False).mean()"
   ]
  },
  {
   "cell_type": "code",
   "execution_count": 33,
   "id": "d6674648",
   "metadata": {},
   "outputs": [
    {
     "data": {
      "text/plain": [
       "<Axes: xlabel='ip_prefix', ylabel='count'>"
      ]
     },
     "execution_count": 33,
     "metadata": {},
     "output_type": "execute_result"
    },
    {
     "data": {
      "image/png": "[encoded data removed]",
      "text/plain": [
       "<Figure size 640x480 with 1 Axes>"
      ]
     },
     "metadata": {},
     "output_type": "display_data"
    }
   ],
   "source": [
    "sns.countplot(data=df,x='ip_prefix',hue='anomaly')"
   ]
  },
  {
   "cell_type": "code",
   "execution_count": 34,
   "id": "cadc4955",
   "metadata": {},
   "outputs": [
    {
     "data": {
      "text/html": [
       "<div>\n",
       "<style scoped>\n",
       "    .dataframe tbody tr th:only-of-type {\n",
       "        vertical-align: middle;\n",
       "    }\n",
       "\n",
       "    .dataframe tbody tr th {\n",
       "        vertical-align: top;\n",
       "    }\n",
       "\n",
       "    .dataframe thead th {\n",
       "        text-align: right;\n",
       "    }\n",
       "</style>\n",
       "<table border=\"1\" class=\"dataframe\">\n",
       "  <thead>\n",
       "    <tr style=\"text-align: right;\">\n",
       "      <th></th>\n",
       "      <th>transaction_type</th>\n",
       "      <th>amount</th>\n",
       "    </tr>\n",
       "  </thead>\n",
       "  <tbody>\n",
       "    <tr>\n",
       "      <th>0</th>\n",
       "      <td>phishing</td>\n",
       "      <td>494.989280</td>\n",
       "    </tr>\n",
       "    <tr>\n",
       "      <th>1</th>\n",
       "      <td>purchase</td>\n",
       "      <td>506.159453</td>\n",
       "    </tr>\n",
       "    <tr>\n",
       "      <th>2</th>\n",
       "      <td>sale</td>\n",
       "      <td>502.824245</td>\n",
       "    </tr>\n",
       "    <tr>\n",
       "      <th>3</th>\n",
       "      <td>scam</td>\n",
       "      <td>495.587316</td>\n",
       "    </tr>\n",
       "    <tr>\n",
       "      <th>4</th>\n",
       "      <td>transfer</td>\n",
       "      <td>500.372180</td>\n",
       "    </tr>\n",
       "  </tbody>\n",
       "</table>\n",
       "</div>"
      ],
      "text/plain": [
       "  transaction_type      amount\n",
       "0         phishing  494.989280\n",
       "1         purchase  506.159453\n",
       "2             sale  502.824245\n",
       "3             scam  495.587316\n",
       "4         transfer  500.372180"
      ]
     },
     "execution_count": 34,
     "metadata": {},
     "output_type": "execute_result"
    }
   ],
   "source": [
    "df[['transaction_type','amount']].groupby(['transaction_type'],as_index=False).mean()"
   ]
  },
  {
   "cell_type": "code",
   "execution_count": 35,
   "id": "c5fdaaec",
   "metadata": {},
   "outputs": [
    {
     "data": {
      "text/html": [
       "<div>\n",
       "<style scoped>\n",
       "    .dataframe tbody tr th:only-of-type {\n",
       "        vertical-align: middle;\n",
       "    }\n",
       "\n",
       "    .dataframe tbody tr th {\n",
       "        vertical-align: top;\n",
       "    }\n",
       "\n",
       "    .dataframe thead th {\n",
       "        text-align: right;\n",
       "    }\n",
       "</style>\n",
       "<table border=\"1\" class=\"dataframe\">\n",
       "  <thead>\n",
       "    <tr style=\"text-align: right;\">\n",
       "      <th></th>\n",
       "      <th>age_group</th>\n",
       "      <th>amount</th>\n",
       "    </tr>\n",
       "  </thead>\n",
       "  <tbody>\n",
       "    <tr>\n",
       "      <th>0</th>\n",
       "      <td>established</td>\n",
       "      <td>502.665637</td>\n",
       "    </tr>\n",
       "    <tr>\n",
       "      <th>1</th>\n",
       "      <td>new</td>\n",
       "      <td>502.734231</td>\n",
       "    </tr>\n",
       "    <tr>\n",
       "      <th>2</th>\n",
       "      <td>veteran</td>\n",
       "      <td>502.327846</td>\n",
       "    </tr>\n",
       "  </tbody>\n",
       "</table>\n",
       "</div>"
      ],
      "text/plain": [
       "     age_group      amount\n",
       "0  established  502.665637\n",
       "1          new  502.734231\n",
       "2      veteran  502.327846"
      ]
     },
     "execution_count": 35,
     "metadata": {},
     "output_type": "execute_result"
    }
   ],
   "source": [
    "df[['age_group','amount']].groupby(['age_group'],as_index=False).mean()"
   ]
  },
  {
   "cell_type": "code",
   "execution_count": 92,
   "id": "3a534dc3",
   "metadata": {},
   "outputs": [
    {
     "data": {
      "text/html": [
       "<div>\n",
       "<style scoped>\n",
       "    .dataframe tbody tr th:only-of-type {\n",
       "        vertical-align: middle;\n",
       "    }\n",
       "\n",
       "    .dataframe tbody tr th {\n",
       "        vertical-align: top;\n",
       "    }\n",
       "\n",
       "    .dataframe thead th {\n",
       "        text-align: right;\n",
       "    }\n",
       "</style>\n",
       "<table border=\"1\" class=\"dataframe\">\n",
       "  <thead>\n",
       "    <tr style=\"text-align: right;\">\n",
       "      <th></th>\n",
       "      <th>anomaly</th>\n",
       "      <th>amount</th>\n",
       "    </tr>\n",
       "  </thead>\n",
       "  <tbody>\n",
       "    <tr>\n",
       "      <th>0</th>\n",
       "      <td>high_risk</td>\n",
       "      <td>495.352890</td>\n",
       "    </tr>\n",
       "    <tr>\n",
       "      <th>1</th>\n",
       "      <td>low_risk</td>\n",
       "      <td>486.214159</td>\n",
       "    </tr>\n",
       "    <tr>\n",
       "      <th>2</th>\n",
       "      <td>moderate_risk</td>\n",
       "      <td>628.659679</td>\n",
       "    </tr>\n",
       "  </tbody>\n",
       "</table>\n",
       "</div>"
      ],
      "text/plain": [
       "         anomaly      amount\n",
       "0      high_risk  495.352890\n",
       "1       low_risk  486.214159\n",
       "2  moderate_risk  628.659679"
      ]
     },
     "execution_count": 92,
     "metadata": {},
     "output_type": "execute_result"
    }
   ],
   "source": [
    "df[['anomaly','amount']].groupby(['anomaly'],as_index=False).mean()"
   ]
  },
  {
   "cell_type": "markdown",
   "id": "b472c59c",
   "metadata": {},
   "source": [
    "The amount per transaction is fairly similar across all age groups, transaction types and anomaly classes which could suggest that the amount feature does not have a huge influence on whether a transaction is fraudulent or not, which is very interesting.\n",
    "\n",
    "This is also backed up by the fact that the correlation of amount to anomaly is fairly low at 0.084998."
   ]
  },
  {
   "cell_type": "markdown",
   "id": "f55e6ed8",
   "metadata": {},
   "source": [
    "# Feature Engineering and Data Preprocessing"
   ]
  },
  {
   "cell_type": "markdown",
   "id": "dad6960b",
   "metadata": {},
   "source": [
    "# Handling Outliers"
   ]
  },
  {
   "cell_type": "code",
   "execution_count": 36,
   "id": "5e87f45f",
   "metadata": {},
   "outputs": [
    {
     "data": {
      "text/plain": [
       "<Axes: >"
      ]
     },
     "execution_count": 36,
     "metadata": {},
     "output_type": "execute_result"
    },
    {
     "data": {
      "image/png": "[encoded data removed]",
      "text/plain": [
       "<Figure size 1000x500 with 1 Axes>"
      ]
     },
     "metadata": {},
     "output_type": "display_data"
    }
   ],
   "source": [
    "plt.figure(figsize=(10,5))\n",
    "sns.boxplot(data=df[['hour_of_day','amount','ip_prefix','login_frequency','session_duration']],palette='YlOrBr')\n",
    "\n",
    "# There doesnt seem to be any outliers, however we will confirm this."
   ]
  },
  {
   "cell_type": "markdown",
   "id": "6699cfdd",
   "metadata": {},
   "source": [
    "To confirm any outliers I will now define a function that will be used to detect outliers.\n",
    "\n",
    "I will be using the IQR method whereby the function will calculate the lower and upper limits of each numerical column and any values that fall outside these limits will be classified as an outlier.\n",
    "\n",
    "The lower limit will be defined as, upper quartile (q25) - (1.5 * Interquartile range)\n",
    "\n",
    "The upper limit will be defined as, upper quartile (q75) + (1.5 * Interquartile range) "
   ]
  },
  {
   "cell_type": "code",
   "execution_count": 37,
   "id": "30601b8d",
   "metadata": {},
   "outputs": [],
   "source": [
    "def identify_outliers(df,features):\n",
    "    outliers = {}\n",
    "    for i in features:\n",
    "        q25,q75 = np.percentile(df[i],[25,75])\n",
    "        IQR = q75 - q25\n",
    "        upper_limit = q75 + (1.5*q75)\n",
    "        lower_limit = q25 - (1.5*q25)\n",
    "        \n",
    "        outlier_indexes = df[(df[i] < lower_limit) | (df[i] > upper_limit)].index\n",
    "        outlier_indexes = list(outlier_indexes)\n",
    "        outliers.update({i:outlier_indexes})\n",
    "        \n",
    "    return outliers"
   ]
  },
  {
   "cell_type": "code",
   "execution_count": 38,
   "id": "d44f1463",
   "metadata": {},
   "outputs": [
    {
     "name": "stdout",
     "output_type": "stream",
     "text": [
      "{'hour_of_day': [], 'amount': [], 'ip_prefix': [], 'login_frequency': [], 'session_duration': []}\n"
     ]
    }
   ],
   "source": [
    "print(identify_outliers(df,['hour_of_day','amount','ip_prefix','login_frequency','session_duration']))"
   ]
  },
  {
   "cell_type": "markdown",
   "id": "e5988f0c",
   "metadata": {},
   "source": [
    "After running the identify_outliers function, we can see that no outliers have been found as the values in the dictionary above are empty.\n",
    "\n",
    "Therefore we will not be removing any rows."
   ]
  },
  {
   "cell_type": "markdown",
   "id": "d4cb0fc6",
   "metadata": {},
   "source": [
    "We can take the hour_of_day column and turn this into a categorical column where the hours are split into groups for morning, afternoon, evening and night.\n",
    "\n",
    "I am doing this to the group numbers so that it is easier to gain insight from this feature. "
   ]
  },
  {
   "cell_type": "code",
   "execution_count": 39,
   "id": "90d0aba8",
   "metadata": {},
   "outputs": [],
   "source": [
    "'''\n",
    "Morning (6am - 12pm)\n",
    "afternoon (12pm - 5pm)\n",
    "evening (5pm-9pm)\n",
    "night (9pm-6am)\n",
    "\n",
    "'''\n",
    "\n",
    "def hours(x):\n",
    "    if x >= 6 and x < 12:\n",
    "        return 'Morning'\n",
    "    elif x >= 12 and x < 17:\n",
    "        return 'Afternoon'\n",
    "    elif x >= 17 and x < 21:\n",
    "        return 'Evening'\n",
    "    elif x >= 21 and x >= 1 and x < 6:\n",
    "        return 'Night'"
   ]
  },
  {
   "cell_type": "code",
   "execution_count": 40,
   "id": "c4afe358",
   "metadata": {},
   "outputs": [],
   "source": [
    "df['time_of_day'] = df['hour_of_day'].apply(hours)"
   ]
  },
  {
   "cell_type": "code",
   "execution_count": 41,
   "id": "7669b0b4",
   "metadata": {},
   "outputs": [
    {
     "data": {
      "text/plain": [
       "0        Afternoon\n",
       "1          Evening\n",
       "2        Afternoon\n",
       "3          Morning\n",
       "4        Afternoon\n",
       "           ...    \n",
       "78595    Afternoon\n",
       "78596    Afternoon\n",
       "78597    Afternoon\n",
       "78598         None\n",
       "78599    Afternoon\n",
       "Name: time_of_day, Length: 78600, dtype: object"
      ]
     },
     "execution_count": 41,
     "metadata": {},
     "output_type": "execute_result"
    }
   ],
   "source": [
    "df['time_of_day']"
   ]
  },
  {
   "cell_type": "code",
   "execution_count": 42,
   "id": "d3025b1f",
   "metadata": {},
   "outputs": [],
   "source": [
    "X = df.drop(['timestamp','hour_of_day','sending_address','receiving_address','location_region','ip_prefix','target','anomaly','risk_score'],axis=1)\n",
    "X = pd.get_dummies(data=X)\n",
    "\n",
    "y = df['anomaly']"
   ]
  },
  {
   "cell_type": "markdown",
   "id": "c9b1a1da",
   "metadata": {},
   "source": [
    "I dropped features timestamp, sending_address and receiving_address due to high cardinality.\n",
    "\n",
    "I also dropped location_region and ip_prefix as during the eda process, I discovered that the each category of both features had an equal number of cases of each classification of anomaly. Therefore not providing any insight that the features affected the class of anomaly. Furthermore, ip_prefix also had a low correlation (0.006499) to the label (anomaly).\n",
    "\n",
    "hour_of_day was dropped as we transformed this feature into the time_of_day feature. \n",
    "\n",
    "target was dropped as we only created this column to look at the correlation and this can only be done with numerical columns.\n",
    "\n",
    "Finally, anomaly was dropped adn assigned to y as this is the label and what the ML model will be predicting. \n",
    "\n",
    "We do not need to preprocess the anomaly column and convert each classification to a numerical value. This is because in scikit-learn, it is perfectly fine to have the label classes as strings."
   ]
  },
  {
   "cell_type": "code",
   "execution_count": 43,
   "id": "1f69b2b1",
   "metadata": {},
   "outputs": [
    {
     "data": {
      "text/html": [
       "<div>\n",
       "<style scoped>\n",
       "    .dataframe tbody tr th:only-of-type {\n",
       "        vertical-align: middle;\n",
       "    }\n",
       "\n",
       "    .dataframe tbody tr th {\n",
       "        vertical-align: top;\n",
       "    }\n",
       "\n",
       "    .dataframe thead th {\n",
       "        text-align: right;\n",
       "    }\n",
       "</style>\n",
       "<table border=\"1\" class=\"dataframe\">\n",
       "  <thead>\n",
       "    <tr style=\"text-align: right;\">\n",
       "      <th></th>\n",
       "      <th>amount</th>\n",
       "      <th>login_frequency</th>\n",
       "      <th>session_duration</th>\n",
       "      <th>transaction_type_phishing</th>\n",
       "      <th>transaction_type_purchase</th>\n",
       "      <th>transaction_type_sale</th>\n",
       "      <th>transaction_type_scam</th>\n",
       "      <th>transaction_type_transfer</th>\n",
       "      <th>purchase_pattern_focused</th>\n",
       "      <th>purchase_pattern_high_value</th>\n",
       "      <th>purchase_pattern_random</th>\n",
       "      <th>age_group_established</th>\n",
       "      <th>age_group_new</th>\n",
       "      <th>age_group_veteran</th>\n",
       "      <th>time_of_day_Afternoon</th>\n",
       "      <th>time_of_day_Evening</th>\n",
       "      <th>time_of_day_Morning</th>\n",
       "    </tr>\n",
       "  </thead>\n",
       "  <tbody>\n",
       "    <tr>\n",
       "      <th>0</th>\n",
       "      <td>796.949206</td>\n",
       "      <td>3</td>\n",
       "      <td>48</td>\n",
       "      <td>False</td>\n",
       "      <td>False</td>\n",
       "      <td>False</td>\n",
       "      <td>False</td>\n",
       "      <td>True</td>\n",
       "      <td>True</td>\n",
       "      <td>False</td>\n",
       "      <td>False</td>\n",
       "      <td>True</td>\n",
       "      <td>False</td>\n",
       "      <td>False</td>\n",
       "      <td>True</td>\n",
       "      <td>False</td>\n",
       "      <td>False</td>\n",
       "    </tr>\n",
       "    <tr>\n",
       "      <th>1</th>\n",
       "      <td>0.010000</td>\n",
       "      <td>5</td>\n",
       "      <td>61</td>\n",
       "      <td>False</td>\n",
       "      <td>True</td>\n",
       "      <td>False</td>\n",
       "      <td>False</td>\n",
       "      <td>False</td>\n",
       "      <td>True</td>\n",
       "      <td>False</td>\n",
       "      <td>False</td>\n",
       "      <td>True</td>\n",
       "      <td>False</td>\n",
       "      <td>False</td>\n",
       "      <td>False</td>\n",
       "      <td>True</td>\n",
       "      <td>False</td>\n",
       "    </tr>\n",
       "    <tr>\n",
       "      <th>2</th>\n",
       "      <td>778.197390</td>\n",
       "      <td>3</td>\n",
       "      <td>74</td>\n",
       "      <td>False</td>\n",
       "      <td>True</td>\n",
       "      <td>False</td>\n",
       "      <td>False</td>\n",
       "      <td>False</td>\n",
       "      <td>True</td>\n",
       "      <td>False</td>\n",
       "      <td>False</td>\n",
       "      <td>True</td>\n",
       "      <td>False</td>\n",
       "      <td>False</td>\n",
       "      <td>True</td>\n",
       "      <td>False</td>\n",
       "      <td>False</td>\n",
       "    </tr>\n",
       "    <tr>\n",
       "      <th>3</th>\n",
       "      <td>300.838358</td>\n",
       "      <td>8</td>\n",
       "      <td>111</td>\n",
       "      <td>False</td>\n",
       "      <td>False</td>\n",
       "      <td>False</td>\n",
       "      <td>False</td>\n",
       "      <td>True</td>\n",
       "      <td>False</td>\n",
       "      <td>True</td>\n",
       "      <td>False</td>\n",
       "      <td>False</td>\n",
       "      <td>False</td>\n",
       "      <td>True</td>\n",
       "      <td>False</td>\n",
       "      <td>False</td>\n",
       "      <td>True</td>\n",
       "    </tr>\n",
       "    <tr>\n",
       "      <th>4</th>\n",
       "      <td>775.569344</td>\n",
       "      <td>6</td>\n",
       "      <td>100</td>\n",
       "      <td>False</td>\n",
       "      <td>False</td>\n",
       "      <td>True</td>\n",
       "      <td>False</td>\n",
       "      <td>False</td>\n",
       "      <td>False</td>\n",
       "      <td>True</td>\n",
       "      <td>False</td>\n",
       "      <td>False</td>\n",
       "      <td>False</td>\n",
       "      <td>True</td>\n",
       "      <td>True</td>\n",
       "      <td>False</td>\n",
       "      <td>False</td>\n",
       "    </tr>\n",
       "    <tr>\n",
       "      <th>5</th>\n",
       "      <td>590.253982</td>\n",
       "      <td>4</td>\n",
       "      <td>66</td>\n",
       "      <td>False</td>\n",
       "      <td>False</td>\n",
       "      <td>False</td>\n",
       "      <td>False</td>\n",
       "      <td>True</td>\n",
       "      <td>True</td>\n",
       "      <td>False</td>\n",
       "      <td>False</td>\n",
       "      <td>True</td>\n",
       "      <td>False</td>\n",
       "      <td>False</td>\n",
       "      <td>False</td>\n",
       "      <td>True</td>\n",
       "      <td>False</td>\n",
       "    </tr>\n",
       "    <tr>\n",
       "      <th>6</th>\n",
       "      <td>671.496246</td>\n",
       "      <td>8</td>\n",
       "      <td>103</td>\n",
       "      <td>False</td>\n",
       "      <td>False</td>\n",
       "      <td>True</td>\n",
       "      <td>False</td>\n",
       "      <td>False</td>\n",
       "      <td>False</td>\n",
       "      <td>True</td>\n",
       "      <td>False</td>\n",
       "      <td>False</td>\n",
       "      <td>False</td>\n",
       "      <td>True</td>\n",
       "      <td>False</td>\n",
       "      <td>True</td>\n",
       "      <td>False</td>\n",
       "    </tr>\n",
       "    <tr>\n",
       "      <th>7</th>\n",
       "      <td>800.208934</td>\n",
       "      <td>1</td>\n",
       "      <td>32</td>\n",
       "      <td>False</td>\n",
       "      <td>False</td>\n",
       "      <td>True</td>\n",
       "      <td>False</td>\n",
       "      <td>False</td>\n",
       "      <td>False</td>\n",
       "      <td>False</td>\n",
       "      <td>True</td>\n",
       "      <td>False</td>\n",
       "      <td>True</td>\n",
       "      <td>False</td>\n",
       "      <td>False</td>\n",
       "      <td>True</td>\n",
       "      <td>False</td>\n",
       "    </tr>\n",
       "    <tr>\n",
       "      <th>8</th>\n",
       "      <td>218.030944</td>\n",
       "      <td>4</td>\n",
       "      <td>42</td>\n",
       "      <td>False</td>\n",
       "      <td>False</td>\n",
       "      <td>False</td>\n",
       "      <td>False</td>\n",
       "      <td>True</td>\n",
       "      <td>True</td>\n",
       "      <td>False</td>\n",
       "      <td>False</td>\n",
       "      <td>True</td>\n",
       "      <td>False</td>\n",
       "      <td>False</td>\n",
       "      <td>True</td>\n",
       "      <td>False</td>\n",
       "      <td>False</td>\n",
       "    </tr>\n",
       "    <tr>\n",
       "      <th>9</th>\n",
       "      <td>134.595378</td>\n",
       "      <td>3</td>\n",
       "      <td>79</td>\n",
       "      <td>False</td>\n",
       "      <td>False</td>\n",
       "      <td>False</td>\n",
       "      <td>False</td>\n",
       "      <td>True</td>\n",
       "      <td>True</td>\n",
       "      <td>False</td>\n",
       "      <td>False</td>\n",
       "      <td>True</td>\n",
       "      <td>False</td>\n",
       "      <td>False</td>\n",
       "      <td>True</td>\n",
       "      <td>False</td>\n",
       "      <td>False</td>\n",
       "    </tr>\n",
       "  </tbody>\n",
       "</table>\n",
       "</div>"
      ],
      "text/plain": [
       "       amount  login_frequency  session_duration  transaction_type_phishing  \\\n",
       "0  796.949206                3                48                      False   \n",
       "1    0.010000                5                61                      False   \n",
       "2  778.197390                3                74                      False   \n",
       "3  300.838358                8               111                      False   \n",
       "4  775.569344                6               100                      False   \n",
       "5  590.253982                4                66                      False   \n",
       "6  671.496246                8               103                      False   \n",
       "7  800.208934                1                32                      False   \n",
       "8  218.030944                4                42                      False   \n",
       "9  134.595378                3                79                      False   \n",
       "\n",
       "   transaction_type_purchase  transaction_type_sale  transaction_type_scam  \\\n",
       "0                      False                  False                  False   \n",
       "1                       True                  False                  False   \n",
       "2                       True                  False                  False   \n",
       "3                      False                  False                  False   \n",
       "4                      False                   True                  False   \n",
       "5                      False                  False                  False   \n",
       "6                      False                   True                  False   \n",
       "7                      False                   True                  False   \n",
       "8                      False                  False                  False   \n",
       "9                      False                  False                  False   \n",
       "\n",
       "   transaction_type_transfer  purchase_pattern_focused  \\\n",
       "0                       True                      True   \n",
       "1                      False                      True   \n",
       "2                      False                      True   \n",
       "3                       True                     False   \n",
       "4                      False                     False   \n",
       "5                       True                      True   \n",
       "6                      False                     False   \n",
       "7                      False                     False   \n",
       "8                       True                      True   \n",
       "9                       True                      True   \n",
       "\n",
       "   purchase_pattern_high_value  purchase_pattern_random  \\\n",
       "0                        False                    False   \n",
       "1                        False                    False   \n",
       "2                        False                    False   \n",
       "3                         True                    False   \n",
       "4                         True                    False   \n",
       "5                        False                    False   \n",
       "6                         True                    False   \n",
       "7                        False                     True   \n",
       "8                        False                    False   \n",
       "9                        False                    False   \n",
       "\n",
       "   age_group_established  age_group_new  age_group_veteran  \\\n",
       "0                   True          False              False   \n",
       "1                   True          False              False   \n",
       "2                   True          False              False   \n",
       "3                  False          False               True   \n",
       "4                  False          False               True   \n",
       "5                   True          False              False   \n",
       "6                  False          False               True   \n",
       "7                  False           True              False   \n",
       "8                   True          False              False   \n",
       "9                   True          False              False   \n",
       "\n",
       "   time_of_day_Afternoon  time_of_day_Evening  time_of_day_Morning  \n",
       "0                   True                False                False  \n",
       "1                  False                 True                False  \n",
       "2                   True                False                False  \n",
       "3                  False                False                 True  \n",
       "4                   True                False                False  \n",
       "5                  False                 True                False  \n",
       "6                  False                 True                False  \n",
       "7                  False                 True                False  \n",
       "8                   True                False                False  \n",
       "9                   True                False                False  "
      ]
     },
     "execution_count": 43,
     "metadata": {},
     "output_type": "execute_result"
    }
   ],
   "source": [
    "X.head(10)"
   ]
  },
  {
   "cell_type": "markdown",
   "id": "ab1e8e9d",
   "metadata": {},
   "source": [
    "# Modelling"
   ]
  },
  {
   "cell_type": "code",
   "execution_count": 44,
   "id": "44576fa8",
   "metadata": {},
   "outputs": [],
   "source": [
    "from sklearn.model_selection import train_test_split\n",
    "from sklearn.preprocessing import StandardScaler\n",
    "from sklearn.model_selection import cross_val_score\n",
    "from sklearn.tree import DecisionTreeClassifier\n",
    "from sklearn.ensemble import RandomForestClassifier\n",
    "from sklearn.ensemble import GradientBoostingClassifier,AdaBoostClassifier\n",
    "from sklearn.model_selection import GridSearchCV\n",
    "from imblearn.over_sampling import SMOTE\n",
    "from sklearn.metrics import classification_report,confusion_matrix,ConfusionMatrixDisplay"
   ]
  },
  {
   "cell_type": "code",
   "execution_count": 45,
   "id": "9a7bd7c0",
   "metadata": {},
   "outputs": [],
   "source": [
    "X_train, X_test, y_train, y_test = train_test_split(X, y, test_size=0.25, random_state=42)"
   ]
  },
  {
   "cell_type": "code",
   "execution_count": 46,
   "id": "0241d1ee",
   "metadata": {},
   "outputs": [],
   "source": [
    "scaler = StandardScaler()\n",
    "\n",
    "scaled_X_train = scaler.fit_transform(X_train)\n",
    "scaled_X_test = scaler.transform(X_test)"
   ]
  },
  {
   "cell_type": "code",
   "execution_count": 47,
   "id": "1d6bb0e3",
   "metadata": {},
   "outputs": [],
   "source": [
    "sample_smote = SMOTE()\n",
    "\n",
    "X_smote,y_smote = sample_smote.fit_resample(scaled_X_train,y_train)"
   ]
  },
  {
   "cell_type": "code",
   "execution_count": 48,
   "id": "d1cdf91b",
   "metadata": {},
   "outputs": [
    {
     "data": {
      "text/plain": [
       "anomaly\n",
       "low_risk         47471\n",
       "moderate_risk    47471\n",
       "high_risk        47471\n",
       "Name: count, dtype: int64"
      ]
     },
     "execution_count": 48,
     "metadata": {},
     "output_type": "execute_result"
    }
   ],
   "source": [
    "y_smote.value_counts()"
   ]
  },
  {
   "cell_type": "code",
   "execution_count": 49,
   "id": "8b535084",
   "metadata": {},
   "outputs": [
    {
     "data": {
      "text/plain": [
       "anomaly\n",
       "low_risk         63494\n",
       "moderate_risk     8611\n",
       "high_risk         6495\n",
       "Name: count, dtype: int64"
      ]
     },
     "execution_count": 49,
     "metadata": {},
     "output_type": "execute_result"
    }
   ],
   "source": [
    "y.value_counts()"
   ]
  },
  {
   "cell_type": "markdown",
   "id": "70f99fc9",
   "metadata": {},
   "source": [
    "SMOTE is an oversampling technique which stands for Synthetic Minority Oversampling Technique.\n",
    "\n",
    "As our dataset is imbalanced I will be utilising this technique to balance the dataset and improve model performance.\n",
    "\n",
    "As you can see above, SMOTE has balanced the dataset and now all classifications have an equal number of instances."
   ]
  },
  {
   "cell_type": "markdown",
   "id": "352fce99",
   "metadata": {},
   "source": [
    "# Decision Tree Classifier"
   ]
  },
  {
   "cell_type": "code",
   "execution_count": 50,
   "id": "bd51b8ca",
   "metadata": {},
   "outputs": [
    {
     "data": {
      "text/plain": [
       "0.9511959287531807"
      ]
     },
     "execution_count": 50,
     "metadata": {},
     "output_type": "execute_result"
    }
   ],
   "source": [
    "dtree = DecisionTreeClassifier()\n",
    "\n",
    "dtree_cv = cross_val_score(estimator=dtree,X=scaled_X_train,y=y_train,cv=5)\n",
    "\n",
    "dtree_cv.mean()\n"
   ]
  },
  {
   "cell_type": "code",
   "execution_count": 51,
   "id": "3b862812",
   "metadata": {},
   "outputs": [
    {
     "data": {
      "text/plain": [
       "0.9739982463616895"
      ]
     },
     "execution_count": 51,
     "metadata": {},
     "output_type": "execute_result"
    }
   ],
   "source": [
    "dtree_smote = DecisionTreeClassifier()\n",
    "\n",
    "dtree_cv_smote = cross_val_score(estimator=dtree_smote, X=X_smote, y=y_smote, cv=5)\n",
    "\n",
    "dtree_cv_smote.mean()"
   ]
  },
  {
   "cell_type": "markdown",
   "id": "d31397f9",
   "metadata": {},
   "source": [
    "# Random Forest Classifier"
   ]
  },
  {
   "cell_type": "code",
   "execution_count": 52,
   "id": "fd61363a",
   "metadata": {},
   "outputs": [
    {
     "data": {
      "text/plain": [
       "0.9553689567430025"
      ]
     },
     "execution_count": 52,
     "metadata": {},
     "output_type": "execute_result"
    }
   ],
   "source": [
    "rfc = RandomForestClassifier()\n",
    "\n",
    "rfc_cv = cross_val_score(estimator=rfc, X=scaled_X_train, y=y_train, cv=5)\n",
    "\n",
    "rfc_cv.mean()"
   ]
  },
  {
   "cell_type": "code",
   "execution_count": 53,
   "id": "e8575379",
   "metadata": {},
   "outputs": [
    {
     "data": {
      "text/plain": [
       "0.979713938641218"
      ]
     },
     "execution_count": 53,
     "metadata": {},
     "output_type": "execute_result"
    }
   ],
   "source": [
    "rfc_smote = RandomForestClassifier()\n",
    "\n",
    "rfc_cv_smote = cross_val_score(estimator=rfc_smote,X=X_smote,y=y_smote,cv=5)\n",
    "\n",
    "rfc_cv_smote.mean()"
   ]
  },
  {
   "cell_type": "markdown",
   "id": "a15bba9a",
   "metadata": {},
   "source": [
    "# Gradient Boosting Classifier"
   ]
  },
  {
   "cell_type": "code",
   "execution_count": 54,
   "id": "d36ac007",
   "metadata": {},
   "outputs": [
    {
     "data": {
      "text/plain": [
       "0.9655640373197626"
      ]
     },
     "execution_count": 54,
     "metadata": {},
     "output_type": "execute_result"
    }
   ],
   "source": [
    "gbc = GradientBoostingClassifier()\n",
    "\n",
    "gbc_cv = cross_val_score(estimator=gbc, X=scaled_X_train, y=y_train, cv=5)\n",
    "\n",
    "gbc_cv.mean()"
   ]
  },
  {
   "cell_type": "code",
   "execution_count": 55,
   "id": "82691411",
   "metadata": {},
   "outputs": [
    {
     "data": {
      "text/plain": [
       "0.9725727163771438"
      ]
     },
     "execution_count": 55,
     "metadata": {},
     "output_type": "execute_result"
    }
   ],
   "source": [
    "gbc_smote = GradientBoostingClassifier()\n",
    "\n",
    "gbc_cv_smote = cross_val_score(estimator=gbc_smote,X=X_smote,y=y_smote,cv=5)\n",
    "\n",
    "gbc_cv_smote.mean()"
   ]
  },
  {
   "cell_type": "markdown",
   "id": "e198e5e7",
   "metadata": {},
   "source": [
    "# Ada Boost Classifier"
   ]
  },
  {
   "cell_type": "code",
   "execution_count": 56,
   "id": "9c802257",
   "metadata": {},
   "outputs": [
    {
     "data": {
      "text/plain": [
       "0.8887022900763359"
      ]
     },
     "execution_count": 56,
     "metadata": {},
     "output_type": "execute_result"
    }
   ],
   "source": [
    "abc = AdaBoostClassifier()\n",
    "\n",
    "abc_cv = cross_val_score(estimator=abc, X=scaled_X_train, y=y_train, cv=5)\n",
    "\n",
    "abc_cv.mean()"
   ]
  },
  {
   "cell_type": "code",
   "execution_count": 57,
   "id": "6acdefca",
   "metadata": {},
   "outputs": [
    {
     "data": {
      "text/plain": [
       "0.9139263754978002"
      ]
     },
     "execution_count": 57,
     "metadata": {},
     "output_type": "execute_result"
    }
   ],
   "source": [
    "abc_smote = AdaBoostClassifier()\n",
    "\n",
    "abc_cv_smote = cross_val_score(estimator=abc_smote,X=X_smote,y=y_smote,cv=5)\n",
    "\n",
    "abc_cv_smote.mean()"
   ]
  },
  {
   "cell_type": "markdown",
   "id": "d82627b9",
   "metadata": {},
   "source": [
    "As we can see from the results above, implementing the SMOTE technique to balance the dataset did improve the score for all models.\n",
    "\n",
    "The Random Forest Classifier model, with oversampling, performed the best so we will use this model for the model prediction. "
   ]
  },
  {
   "cell_type": "code",
   "execution_count": 58,
   "id": "3dc9577d",
   "metadata": {},
   "outputs": [],
   "source": [
    "final_rfc = RandomForestClassifier()\n",
    "\n",
    "params = {'n_estimators':[100,200,300],\n",
    "          'max_depth':[10,20,30],\n",
    "          'class_weight':['balanced', 'balanced_subsample']\n",
    "             }"
   ]
  },
  {
   "cell_type": "code",
   "execution_count": 59,
   "id": "6b19344a",
   "metadata": {},
   "outputs": [
    {
     "data": {
      "text/html": [
       "<style>#sk-container-id-1 {color: black;}#sk-container-id-1 pre{padding: 0;}#sk-container-id-1 div.sk-toggleable {background-color: white;}#sk-container-id-1 label.sk-toggleable__label {cursor: pointer;display: block;width: 100%;margin-bottom: 0;padding: 0.3em;box-sizing: border-box;text-align: center;}#sk-container-id-1 label.sk-toggleable__label-arrow:before {content: \"▸\";float: left;margin-right: 0.25em;color: #696969;}#sk-container-id-1 label.sk-toggleable__label-arrow:hover:before {color: black;}#sk-container-id-1 div.sk-estimator:hover label.sk-toggleable__label-arrow:before {color: black;}#sk-container-id-1 div.sk-toggleable__content {max-height: 0;max-width: 0;overflow: hidden;text-align: left;background-color: #f0f8ff;}#sk-container-id-1 div.sk-toggleable__content pre {margin: 0.2em;color: black;border-radius: 0.25em;background-color: #f0f8ff;}#sk-container-id-1 input.sk-toggleable__control:checked~div.sk-toggleable__content {max-height: 200px;max-width: 100%;overflow: auto;}#sk-container-id-1 input.sk-toggleable__control:checked~label.sk-toggleable__label-arrow:before {content: \"▾\";}#sk-container-id-1 div.sk-estimator input.sk-toggleable__control:checked~label.sk-toggleable__label {background-color: #d4ebff;}#sk-container-id-1 div.sk-label input.sk-toggleable__control:checked~label.sk-toggleable__label {background-color: #d4ebff;}#sk-container-id-1 input.sk-hidden--visually {border: 0;clip: rect(1px 1px 1px 1px);clip: rect(1px, 1px, 1px, 1px);height: 1px;margin: -1px;overflow: hidden;padding: 0;position: absolute;width: 1px;}#sk-container-id-1 div.sk-estimator {font-family: monospace;background-color: #f0f8ff;border: 1px dotted black;border-radius: 0.25em;box-sizing: border-box;margin-bottom: 0.5em;}#sk-container-id-1 div.sk-estimator:hover {background-color: #d4ebff;}#sk-container-id-1 div.sk-parallel-item::after {content: \"\";width: 100%;border-bottom: 1px solid gray;flex-grow: 1;}#sk-container-id-1 div.sk-label:hover label.sk-toggleable__label {background-color: #d4ebff;}#sk-container-id-1 div.sk-serial::before {content: \"\";position: absolute;border-left: 1px solid gray;box-sizing: border-box;top: 0;bottom: 0;left: 50%;z-index: 0;}#sk-container-id-1 div.sk-serial {display: flex;flex-direction: column;align-items: center;background-color: white;padding-right: 0.2em;padding-left: 0.2em;position: relative;}#sk-container-id-1 div.sk-item {position: relative;z-index: 1;}#sk-container-id-1 div.sk-parallel {display: flex;align-items: stretch;justify-content: center;background-color: white;position: relative;}#sk-container-id-1 div.sk-item::before, #sk-container-id-1 div.sk-parallel-item::before {content: \"\";position: absolute;border-left: 1px solid gray;box-sizing: border-box;top: 0;bottom: 0;left: 50%;z-index: -1;}#sk-container-id-1 div.sk-parallel-item {display: flex;flex-direction: column;z-index: 1;position: relative;background-color: white;}#sk-container-id-1 div.sk-parallel-item:first-child::after {align-self: flex-end;width: 50%;}#sk-container-id-1 div.sk-parallel-item:last-child::after {align-self: flex-start;width: 50%;}#sk-container-id-1 div.sk-parallel-item:only-child::after {width: 0;}#sk-container-id-1 div.sk-dashed-wrapped {border: 1px dashed gray;margin: 0 0.4em 0.5em 0.4em;box-sizing: border-box;padding-bottom: 0.4em;background-color: white;}#sk-container-id-1 div.sk-label label {font-family: monospace;font-weight: bold;display: inline-block;line-height: 1.2em;}#sk-container-id-1 div.sk-label-container {text-align: center;}#sk-container-id-1 div.sk-container {/* jupyter's `normalize.less` sets `[hidden] { display: none; }` but bootstrap.min.css set `[hidden] { display: none !important; }` so we also need the `!important` here to be able to override the default hidden behavior on the sphinx rendered scikit-learn.org. See: https://github.com/scikit-learn/scikit-learn/issues/21755 */display: inline-block !important;position: relative;}#sk-container-id-1 div.sk-text-repr-fallback {display: none;}</style><div id=\"sk-container-id-1\" class=\"sk-top-container\"><div class=\"sk-text-repr-fallback\"><pre>GridSearchCV(estimator=RandomForestClassifier(),\n",
       "             param_grid={&#x27;class_weight&#x27;: [&#x27;balanced&#x27;, &#x27;balanced_subsample&#x27;],\n",
       "                         &#x27;max_depth&#x27;: [10, 20, 30],\n",
       "                         &#x27;n_estimators&#x27;: [100, 200, 300]})</pre><b>In a Jupyter environment, please rerun this cell to show the HTML representation or trust the notebook. <br />On GitHub, the HTML representation is unable to render, please try loading this page with nbviewer.org.</b></div><div class=\"sk-container\" hidden><div class=\"sk-item sk-dashed-wrapped\"><div class=\"sk-label-container\"><div class=\"sk-label sk-toggleable\"><input class=\"sk-toggleable__control sk-hidden--visually\" id=\"sk-estimator-id-1\" type=\"checkbox\" ><label for=\"sk-estimator-id-1\" class=\"sk-toggleable__label sk-toggleable__label-arrow\">GridSearchCV</label><div class=\"sk-toggleable__content\"><pre>GridSearchCV(estimator=RandomForestClassifier(),\n",
       "             param_grid={&#x27;class_weight&#x27;: [&#x27;balanced&#x27;, &#x27;balanced_subsample&#x27;],\n",
       "                         &#x27;max_depth&#x27;: [10, 20, 30],\n",
       "                         &#x27;n_estimators&#x27;: [100, 200, 300]})</pre></div></div></div><div class=\"sk-parallel\"><div class=\"sk-parallel-item\"><div class=\"sk-item\"><div class=\"sk-label-container\"><div class=\"sk-label sk-toggleable\"><input class=\"sk-toggleable__control sk-hidden--visually\" id=\"sk-estimator-id-2\" type=\"checkbox\" ><label for=\"sk-estimator-id-2\" class=\"sk-toggleable__label sk-toggleable__label-arrow\">estimator: RandomForestClassifier</label><div class=\"sk-toggleable__content\"><pre>RandomForestClassifier()</pre></div></div></div><div class=\"sk-serial\"><div class=\"sk-item\"><div class=\"sk-estimator sk-toggleable\"><input class=\"sk-toggleable__control sk-hidden--visually\" id=\"sk-estimator-id-3\" type=\"checkbox\" ><label for=\"sk-estimator-id-3\" class=\"sk-toggleable__label sk-toggleable__label-arrow\">RandomForestClassifier</label><div class=\"sk-toggleable__content\"><pre>RandomForestClassifier()</pre></div></div></div></div></div></div></div></div></div></div>"
      ],
      "text/plain": [
       "GridSearchCV(estimator=RandomForestClassifier(),\n",
       "             param_grid={'class_weight': ['balanced', 'balanced_subsample'],\n",
       "                         'max_depth': [10, 20, 30],\n",
       "                         'n_estimators': [100, 200, 300]})"
      ]
     },
     "execution_count": 59,
     "metadata": {},
     "output_type": "execute_result"
    }
   ],
   "source": [
    "final_rfc_grid = GridSearchCV(estimator=final_rfc,param_grid=params)\n",
    "final_rfc_grid.fit(X_smote,y_smote)\n"
   ]
  },
  {
   "cell_type": "code",
   "execution_count": 60,
   "id": "c6e4a18a",
   "metadata": {},
   "outputs": [
    {
     "data": {
      "text/plain": [
       "{'class_weight': 'balanced_subsample', 'max_depth': 30, 'n_estimators': 100}"
      ]
     },
     "execution_count": 60,
     "metadata": {},
     "output_type": "execute_result"
    }
   ],
   "source": [
    "final_rfc_grid.best_params_"
   ]
  },
  {
   "cell_type": "code",
   "execution_count": 69,
   "id": "3f99dc0b",
   "metadata": {},
   "outputs": [
    {
     "data": {
      "text/html": [
       "<style>#sk-container-id-3 {color: black;}#sk-container-id-3 pre{padding: 0;}#sk-container-id-3 div.sk-toggleable {background-color: white;}#sk-container-id-3 label.sk-toggleable__label {cursor: pointer;display: block;width: 100%;margin-bottom: 0;padding: 0.3em;box-sizing: border-box;text-align: center;}#sk-container-id-3 label.sk-toggleable__label-arrow:before {content: \"▸\";float: left;margin-right: 0.25em;color: #696969;}#sk-container-id-3 label.sk-toggleable__label-arrow:hover:before {color: black;}#sk-container-id-3 div.sk-estimator:hover label.sk-toggleable__label-arrow:before {color: black;}#sk-container-id-3 div.sk-toggleable__content {max-height: 0;max-width: 0;overflow: hidden;text-align: left;background-color: #f0f8ff;}#sk-container-id-3 div.sk-toggleable__content pre {margin: 0.2em;color: black;border-radius: 0.25em;background-color: #f0f8ff;}#sk-container-id-3 input.sk-toggleable__control:checked~div.sk-toggleable__content {max-height: 200px;max-width: 100%;overflow: auto;}#sk-container-id-3 input.sk-toggleable__control:checked~label.sk-toggleable__label-arrow:before {content: \"▾\";}#sk-container-id-3 div.sk-estimator input.sk-toggleable__control:checked~label.sk-toggleable__label {background-color: #d4ebff;}#sk-container-id-3 div.sk-label input.sk-toggleable__control:checked~label.sk-toggleable__label {background-color: #d4ebff;}#sk-container-id-3 input.sk-hidden--visually {border: 0;clip: rect(1px 1px 1px 1px);clip: rect(1px, 1px, 1px, 1px);height: 1px;margin: -1px;overflow: hidden;padding: 0;position: absolute;width: 1px;}#sk-container-id-3 div.sk-estimator {font-family: monospace;background-color: #f0f8ff;border: 1px dotted black;border-radius: 0.25em;box-sizing: border-box;margin-bottom: 0.5em;}#sk-container-id-3 div.sk-estimator:hover {background-color: #d4ebff;}#sk-container-id-3 div.sk-parallel-item::after {content: \"\";width: 100%;border-bottom: 1px solid gray;flex-grow: 1;}#sk-container-id-3 div.sk-label:hover label.sk-toggleable__label {background-color: #d4ebff;}#sk-container-id-3 div.sk-serial::before {content: \"\";position: absolute;border-left: 1px solid gray;box-sizing: border-box;top: 0;bottom: 0;left: 50%;z-index: 0;}#sk-container-id-3 div.sk-serial {display: flex;flex-direction: column;align-items: center;background-color: white;padding-right: 0.2em;padding-left: 0.2em;position: relative;}#sk-container-id-3 div.sk-item {position: relative;z-index: 1;}#sk-container-id-3 div.sk-parallel {display: flex;align-items: stretch;justify-content: center;background-color: white;position: relative;}#sk-container-id-3 div.sk-item::before, #sk-container-id-3 div.sk-parallel-item::before {content: \"\";position: absolute;border-left: 1px solid gray;box-sizing: border-box;top: 0;bottom: 0;left: 50%;z-index: -1;}#sk-container-id-3 div.sk-parallel-item {display: flex;flex-direction: column;z-index: 1;position: relative;background-color: white;}#sk-container-id-3 div.sk-parallel-item:first-child::after {align-self: flex-end;width: 50%;}#sk-container-id-3 div.sk-parallel-item:last-child::after {align-self: flex-start;width: 50%;}#sk-container-id-3 div.sk-parallel-item:only-child::after {width: 0;}#sk-container-id-3 div.sk-dashed-wrapped {border: 1px dashed gray;margin: 0 0.4em 0.5em 0.4em;box-sizing: border-box;padding-bottom: 0.4em;background-color: white;}#sk-container-id-3 div.sk-label label {font-family: monospace;font-weight: bold;display: inline-block;line-height: 1.2em;}#sk-container-id-3 div.sk-label-container {text-align: center;}#sk-container-id-3 div.sk-container {/* jupyter's `normalize.less` sets `[hidden] { display: none; }` but bootstrap.min.css set `[hidden] { display: none !important; }` so we also need the `!important` here to be able to override the default hidden behavior on the sphinx rendered scikit-learn.org. See: https://github.com/scikit-learn/scikit-learn/issues/21755 */display: inline-block !important;position: relative;}#sk-container-id-3 div.sk-text-repr-fallback {display: none;}</style><div id=\"sk-container-id-3\" class=\"sk-top-container\"><div class=\"sk-text-repr-fallback\"><pre>RandomForestClassifier(class_weight=&#x27;balanced_subsample&#x27;, max_depth=30)</pre><b>In a Jupyter environment, please rerun this cell to show the HTML representation or trust the notebook. <br />On GitHub, the HTML representation is unable to render, please try loading this page with nbviewer.org.</b></div><div class=\"sk-container\" hidden><div class=\"sk-item\"><div class=\"sk-estimator sk-toggleable\"><input class=\"sk-toggleable__control sk-hidden--visually\" id=\"sk-estimator-id-5\" type=\"checkbox\" checked><label for=\"sk-estimator-id-5\" class=\"sk-toggleable__label sk-toggleable__label-arrow\">RandomForestClassifier</label><div class=\"sk-toggleable__content\"><pre>RandomForestClassifier(class_weight=&#x27;balanced_subsample&#x27;, max_depth=30)</pre></div></div></div></div></div>"
      ],
      "text/plain": [
       "RandomForestClassifier(class_weight='balanced_subsample', max_depth=30)"
      ]
     },
     "execution_count": 69,
     "metadata": {},
     "output_type": "execute_result"
    }
   ],
   "source": [
    "final_rfc_grid.best_estimator_"
   ]
  },
  {
   "cell_type": "code",
   "execution_count": 94,
   "id": "06afd421",
   "metadata": {},
   "outputs": [
    {
     "data": {
      "text/plain": [
       "array([0.0889444 , 0.07980414, 0.10577632, 0.04502546, 0.05300888,\n",
       "       0.16508993, 0.06275499, 0.07785758, 0.02396726, 0.05173674,\n",
       "       0.05190652, 0.01455019, 0.06431677, 0.06570334, 0.02143711,\n",
       "       0.02059109, 0.00752927])"
      ]
     },
     "execution_count": 94,
     "metadata": {},
     "output_type": "execute_result"
    }
   ],
   "source": [
    "final_rfc_grid.best_estimator_.feature_importances_"
   ]
  },
  {
   "cell_type": "code",
   "execution_count": 95,
   "id": "75d1e5c1",
   "metadata": {},
   "outputs": [
    {
     "data": {
      "text/html": [
       "<div>\n",
       "<style scoped>\n",
       "    .dataframe tbody tr th:only-of-type {\n",
       "        vertical-align: middle;\n",
       "    }\n",
       "\n",
       "    .dataframe tbody tr th {\n",
       "        vertical-align: top;\n",
       "    }\n",
       "\n",
       "    .dataframe thead th {\n",
       "        text-align: right;\n",
       "    }\n",
       "</style>\n",
       "<table border=\"1\" class=\"dataframe\">\n",
       "  <thead>\n",
       "    <tr style=\"text-align: right;\">\n",
       "      <th></th>\n",
       "      <th>Feature Importance</th>\n",
       "    </tr>\n",
       "  </thead>\n",
       "  <tbody>\n",
       "    <tr>\n",
       "      <th>time_of_day_Morning</th>\n",
       "      <td>0.007529</td>\n",
       "    </tr>\n",
       "    <tr>\n",
       "      <th>age_group_established</th>\n",
       "      <td>0.014550</td>\n",
       "    </tr>\n",
       "    <tr>\n",
       "      <th>time_of_day_Evening</th>\n",
       "      <td>0.020591</td>\n",
       "    </tr>\n",
       "    <tr>\n",
       "      <th>time_of_day_Afternoon</th>\n",
       "      <td>0.021437</td>\n",
       "    </tr>\n",
       "    <tr>\n",
       "      <th>purchase_pattern_focused</th>\n",
       "      <td>0.023967</td>\n",
       "    </tr>\n",
       "    <tr>\n",
       "      <th>transaction_type_phishing</th>\n",
       "      <td>0.045025</td>\n",
       "    </tr>\n",
       "    <tr>\n",
       "      <th>purchase_pattern_high_value</th>\n",
       "      <td>0.051737</td>\n",
       "    </tr>\n",
       "    <tr>\n",
       "      <th>purchase_pattern_random</th>\n",
       "      <td>0.051907</td>\n",
       "    </tr>\n",
       "    <tr>\n",
       "      <th>transaction_type_purchase</th>\n",
       "      <td>0.053009</td>\n",
       "    </tr>\n",
       "    <tr>\n",
       "      <th>transaction_type_scam</th>\n",
       "      <td>0.062755</td>\n",
       "    </tr>\n",
       "    <tr>\n",
       "      <th>age_group_new</th>\n",
       "      <td>0.064317</td>\n",
       "    </tr>\n",
       "    <tr>\n",
       "      <th>age_group_veteran</th>\n",
       "      <td>0.065703</td>\n",
       "    </tr>\n",
       "    <tr>\n",
       "      <th>transaction_type_transfer</th>\n",
       "      <td>0.077858</td>\n",
       "    </tr>\n",
       "    <tr>\n",
       "      <th>login_frequency</th>\n",
       "      <td>0.079804</td>\n",
       "    </tr>\n",
       "    <tr>\n",
       "      <th>amount</th>\n",
       "      <td>0.088944</td>\n",
       "    </tr>\n",
       "    <tr>\n",
       "      <th>session_duration</th>\n",
       "      <td>0.105776</td>\n",
       "    </tr>\n",
       "    <tr>\n",
       "      <th>transaction_type_sale</th>\n",
       "      <td>0.165090</td>\n",
       "    </tr>\n",
       "  </tbody>\n",
       "</table>\n",
       "</div>"
      ],
      "text/plain": [
       "                             Feature Importance\n",
       "time_of_day_Morning                    0.007529\n",
       "age_group_established                  0.014550\n",
       "time_of_day_Evening                    0.020591\n",
       "time_of_day_Afternoon                  0.021437\n",
       "purchase_pattern_focused               0.023967\n",
       "transaction_type_phishing              0.045025\n",
       "purchase_pattern_high_value            0.051737\n",
       "purchase_pattern_random                0.051907\n",
       "transaction_type_purchase              0.053009\n",
       "transaction_type_scam                  0.062755\n",
       "age_group_new                          0.064317\n",
       "age_group_veteran                      0.065703\n",
       "transaction_type_transfer              0.077858\n",
       "login_frequency                        0.079804\n",
       "amount                                 0.088944\n",
       "session_duration                       0.105776\n",
       "transaction_type_sale                  0.165090"
      ]
     },
     "execution_count": 95,
     "metadata": {},
     "output_type": "execute_result"
    }
   ],
   "source": [
    "important_features = pd.DataFrame(data=final_rfc_grid.best_estimator_.feature_importances_,\n",
    "                                  index=X.columns,columns=['Feature Importance'])\n",
    "\n",
    "important_features.sort_values(by='Feature Importance')"
   ]
  },
  {
   "cell_type": "code",
   "execution_count": 96,
   "id": "10baf449",
   "metadata": {},
   "outputs": [
    {
     "data": {
      "image/png": "[encoded data removed]",
      "text/plain": [
       "<Figure size 800x500 with 1 Axes>"
      ]
     },
     "metadata": {},
     "output_type": "display_data"
    }
   ],
   "source": [
    "plt.figure(figsize=(8,5),dpi=100)\n",
    "sns.barplot(data=important_features,x=important_features.index,y='Feature Importance',palette='viridis')\n",
    "plt.xticks(rotation=90);"
   ]
  },
  {
   "cell_type": "code",
   "execution_count": 61,
   "id": "fe6a018c",
   "metadata": {},
   "outputs": [],
   "source": [
    "y_pred = final_rfc_grid.predict(scaled_X_test)"
   ]
  },
  {
   "cell_type": "code",
   "execution_count": 62,
   "id": "253e3e6c",
   "metadata": {},
   "outputs": [
    {
     "name": "stdout",
     "output_type": "stream",
     "text": [
      "               precision    recall  f1-score   support\n",
      "\n",
      "    high_risk       1.00      1.00      1.00      1577\n",
      "     low_risk       0.99      0.95      0.97     16023\n",
      "moderate_risk       0.71      0.91      0.80      2050\n",
      "\n",
      "     accuracy                           0.95     19650\n",
      "    macro avg       0.90      0.95      0.92     19650\n",
      " weighted avg       0.96      0.95      0.95     19650\n",
      "\n"
     ]
    }
   ],
   "source": [
    "print(classification_report(y_test,y_pred))"
   ]
  },
  {
   "cell_type": "markdown",
   "id": "844b8e43",
   "metadata": {},
   "source": [
    "The Classification report shows us that the model is able to correctly predict all instances of a high risk transaction.\n",
    "\n",
    "It does a very good job at predicting low risk with an f1-score of 0.97.\n",
    "\n",
    "However, the trade off between precision and recall seems to be quite evident when predicting moderate risk. The model doesn't do as well when predicting transactions with moderate risk.\n",
    "\n",
    "The high recall score for moderate risk means that the model is good at,\n",
    "\n",
    "predicting moderate risk when true / total instances of moderate risk in the dataset\n",
    "\n",
    "However, not as well when, \n",
    "\n",
    "predicting moderate risk when true / total moderate risk predictions"
   ]
  },
  {
   "cell_type": "code",
   "execution_count": 63,
   "id": "0d052b82",
   "metadata": {},
   "outputs": [
    {
     "data": {
      "text/plain": [
       "array([[ 1577,     0,     0],\n",
       "       [    0, 15281,   742],\n",
       "       [    0,   193,  1857]], dtype=int64)"
      ]
     },
     "execution_count": 63,
     "metadata": {},
     "output_type": "execute_result"
    }
   ],
   "source": [
    "cm = confusion_matrix(y_test,y_pred)\n",
    "cm"
   ]
  },
  {
   "cell_type": "code",
   "execution_count": 77,
   "id": "e565eca6",
   "metadata": {},
   "outputs": [
    {
     "data": {
      "text/plain": [
       "<sklearn.metrics._plot.confusion_matrix.ConfusionMatrixDisplay at 0x191a5e0b090>"
      ]
     },
     "execution_count": 77,
     "metadata": {},
     "output_type": "execute_result"
    },
    {
     "data": {
      "image/png": "[encoded data removed]",
      "text/plain": [
       "<Figure size 640x480 with 2 Axes>"
      ]
     },
     "metadata": {},
     "output_type": "display_data"
    }
   ],
   "source": [
    "cm_display = ConfusionMatrixDisplay(confusion_matrix = cm,display_labels=['high_risk','low_risk','moderate_risk'])\n",
    "cm_display.plot()"
   ]
  },
  {
   "cell_type": "markdown",
   "id": "5bdbb709",
   "metadata": {},
   "source": [
    "Overall, the model has performed well as it is able to predict all transactions with high risk which are more prone to being fraudulent. Therefore we have achieved the business objective!\n",
    "\n",
    "It also does very well with predicting low risk transactions which means the model will rarely flag a low risk transaction as having moderate risk.\n",
    "\n",
    "The weakness of the model is that sometimes it can flag a transaction as low risk when it has moderate risk."
   ]
  },
  {
   "cell_type": "code",
   "execution_count": null,
   "id": "0ad26bb0",
   "metadata": {},
   "outputs": [],
   "source": []
  }
 ],
 "metadata": {
  "kernelspec": {
   "display_name": "Python 3 (ipykernel)",
   "language": "python",
   "name": "python3"
  },
  "language_info": {
   "codemirror_mode": {
    "name": "ipython",
    "version": 3
   },
   "file_extension": ".py",
   "mimetype": "text/x-python",
   "name": "python",
   "nbconvert_exporter": "python",
   "pygments_lexer": "ipython3",
   "version": "3.11.5"
  }
 },
 "nbformat": 4,
 "nbformat_minor": 5
}
